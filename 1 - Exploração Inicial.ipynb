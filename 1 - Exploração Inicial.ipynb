{
  "nbformat": 4,
  "nbformat_minor": 0,
  "metadata": {
    "kernelspec": {
      "display_name": "Python 3",
      "language": "python",
      "name": "python3"
    },
    "language_info": {
      "codemirror_mode": {
        "name": "ipython",
        "version": 3
      },
      "file_extension": ".py",
      "mimetype": "text/x-python",
      "name": "python",
      "nbconvert_exporter": "python",
      "pygments_lexer": "ipython3",
      "version": "3.7.6"
    },
    "colab": {
      "name": "1 - Exploração Inicial.ipynb",
      "provenance": [],
      "collapsed_sections": []
    }
  },
  "cells": [
    {
      "cell_type": "markdown",
      "metadata": {
        "id": "0ygNH_x-ETL7"
      },
      "source": [
        "# **Introdução à Ciência de Dados**\n",
        "\n",
        "**Professor**: Yuri Malheiros\n",
        "\n",
        "**Grupo**: João Victor Alcoforado de Araújo, Lívia Noêmia Morais Rocha e Matheus Rocha dos Santos Rangel."
      ]
    },
    {
      "cell_type": "markdown",
      "metadata": {
        "id": "FqQS-ozGEpiS"
      },
      "source": [
        "## **Projeto #2 - Exploração Inicial**\n",
        "\n",
        "Abaixo foram feitas explorações iniciais nos dois datasets excolhidos pelo grupo:  \n",
        "1. Campanha Nacional de Vacinação contra Covid-19 [(CNVCC)](https://opendatasus.saude.gov.br/dataset/covid-19-vacinacao)  \n",
        "2. Banco de Dados de Síndrome Respiratória Aguda Grave [(SRAG)](https://opendatasus.saude.gov.br/dataset/bd-srag-2021).\n"
      ]
    },
    {
      "cell_type": "markdown",
      "metadata": {
        "id": "5UyALsjvCa2C"
      },
      "source": [
        "#### **Imports e configurações gerais**"
      ]
    },
    {
      "cell_type": "code",
      "metadata": {
        "id": "DVVcVZk7t4TH"
      },
      "source": [
        "#Dependencias\n",
        "import pandas as pd\n",
        "import numpy as np\n",
        "import seaborn as sns"
      ],
      "execution_count": 1,
      "outputs": []
    },
    {
      "cell_type": "code",
      "metadata": {
        "id": "2IRJz5t_t4TR"
      },
      "source": [
        "#Configurações DataFrame\n",
        "pd.set_option('max_columns', None)\n",
        "pd.set_option('max_rows', None)\n",
        "pd.set_option('max_colwidth', None)"
      ],
      "execution_count": 2,
      "outputs": []
    },
    {
      "cell_type": "code",
      "metadata": {
        "colab": {
          "base_uri": "https://localhost:8080/"
        },
        "id": "B2XmFz0nt9Hz",
        "outputId": "9ac78f83-568f-4875-887a-3188bfe08e23"
      },
      "source": [
        "#Acesso a arquivos do Google Drive\n",
        "from google.colab import drive\n",
        "drive.mount('/content/drive')"
      ],
      "execution_count": 3,
      "outputs": [
        {
          "output_type": "stream",
          "text": [
            "Drive already mounted at /content/drive; to attempt to forcibly remount, call drive.mount(\"/content/drive\", force_remount=True).\n"
          ],
          "name": "stdout"
        }
      ]
    },
    {
      "cell_type": "markdown",
      "metadata": {
        "id": "Tx6wVeXtt4TS"
      },
      "source": [
        "## **Exploração Inicial - CNVCC**\n",
        "\n",
        "[Dicionário de dados do dataset](https://opendatasus.saude.gov.br/dataset/b772ee55-07cd-44d8-958f-b12edd004e0b/resource/38ead83d-b115-4219-852e-7244792bc311/download/dicionario-de-dados-vacinacao.pdf)"
      ]
    },
    {
      "cell_type": "code",
      "metadata": {
        "scrolled": false,
        "id": "XhHpv70Ot4TS"
      },
      "source": [
        "cnvcc = pd.read_csv('/content/drive/MyDrive/Colab Notebooks/ICD/Datasets/CNVCC - Nordeste1.csv')"
      ],
      "execution_count": 4,
      "outputs": []
    },
    {
      "cell_type": "code",
      "metadata": {
        "colab": {
          "base_uri": "https://localhost:8080/",
          "height": 564
        },
        "id": "RznhDvCm3r1A",
        "outputId": "572ef1a6-7f8b-46c7-8142-63e546bb0be1"
      },
      "source": [
        "cnvcc.head()"
      ],
      "execution_count": 5,
      "outputs": [
        {
          "output_type": "execute_result",
          "data": {
            "text/html": [
              "<div>\n",
              "<style scoped>\n",
              "    .dataframe tbody tr th:only-of-type {\n",
              "        vertical-align: middle;\n",
              "    }\n",
              "\n",
              "    .dataframe tbody tr th {\n",
              "        vertical-align: top;\n",
              "    }\n",
              "\n",
              "    .dataframe thead th {\n",
              "        text-align: right;\n",
              "    }\n",
              "</style>\n",
              "<table border=\"1\" class=\"dataframe\">\n",
              "  <thead>\n",
              "    <tr style=\"text-align: right;\">\n",
              "      <th></th>\n",
              "      <th>document_id</th>\n",
              "      <th>paciente_id</th>\n",
              "      <th>paciente_idade</th>\n",
              "      <th>paciente_enumSexoBiologico</th>\n",
              "      <th>estabelecimento_uf</th>\n",
              "      <th>vacina_categoria_nome</th>\n",
              "      <th>vacina_fabricante_nome</th>\n",
              "      <th>vacina_dataAplicacao</th>\n",
              "      <th>vacina_descricao_dose</th>\n",
              "      <th>vacina_nome</th>\n",
              "    </tr>\n",
              "  </thead>\n",
              "  <tbody>\n",
              "    <tr>\n",
              "      <th>0</th>\n",
              "      <td>ddc87995-000b-47a1-b90e-6b0d0563f978-i0b0</td>\n",
              "      <td>6b16f0c5e10a74e22ad7f043d723f475cf6b1f349db2d159965d2b76eee68964</td>\n",
              "      <td>23.0</td>\n",
              "      <td>F</td>\n",
              "      <td>MA</td>\n",
              "      <td>Trabalhadores de Saúde</td>\n",
              "      <td>FUNDACAO OSWALDO CRUZ</td>\n",
              "      <td>2021-04-30T03:00:00.000Z</td>\n",
              "      <td>1ª Dose</td>\n",
              "      <td>Vacina Covid-19 - Covishield</td>\n",
              "    </tr>\n",
              "    <tr>\n",
              "      <th>1</th>\n",
              "      <td>7b8f308b-b027-4e31-a6c9-1352df60e0c0-i0b0</td>\n",
              "      <td>d7390505c9f33725adf5af0de73e5924bdd4db1154b3ad9960902207e71dacee</td>\n",
              "      <td>73.0</td>\n",
              "      <td>F</td>\n",
              "      <td>MA</td>\n",
              "      <td>Faixa Etária</td>\n",
              "      <td>FUNDACAO BUTANTAN</td>\n",
              "      <td>2021-03-11T03:00:00.000Z</td>\n",
              "      <td>2ª Dose</td>\n",
              "      <td>Covid-19-Coronavac-Sinovac/Butantan</td>\n",
              "    </tr>\n",
              "    <tr>\n",
              "      <th>2</th>\n",
              "      <td>a9410084-eadf-449e-9d8c-fb6cb7f8a719-i0b0</td>\n",
              "      <td>3aec5e352cba8ad396136966088797ec45e9b29aebd136bb744164da0bffa571</td>\n",
              "      <td>61.0</td>\n",
              "      <td>F</td>\n",
              "      <td>MA</td>\n",
              "      <td>Faixa Etária</td>\n",
              "      <td>FUNDACAO OSWALDO CRUZ</td>\n",
              "      <td>2021-04-29T03:00:00.000Z</td>\n",
              "      <td>1ª Dose</td>\n",
              "      <td>Vacina Covid-19 - Covishield</td>\n",
              "    </tr>\n",
              "    <tr>\n",
              "      <th>3</th>\n",
              "      <td>45373304-db08-47c9-9174-9cc2a53110b4-i0b0</td>\n",
              "      <td>fafb9a784ebdf54d418b37c1b0e0260cf371c16ead72c6cbafff9fd8c196a00e</td>\n",
              "      <td>23.0</td>\n",
              "      <td>F</td>\n",
              "      <td>MA</td>\n",
              "      <td>Povos Indígenas</td>\n",
              "      <td>FUNDACAO BUTANTAN</td>\n",
              "      <td>2021-03-12T03:00:00.000Z</td>\n",
              "      <td>2ª Dose</td>\n",
              "      <td>Covid-19-Coronavac-Sinovac/Butantan</td>\n",
              "    </tr>\n",
              "    <tr>\n",
              "      <th>4</th>\n",
              "      <td>e8b44e85-890d-4e5f-a286-6d1f1b26fba7-i0b0</td>\n",
              "      <td>1b518f76d0415ffdb07e65f875db7f6a8a6ec741748375818a635a4182463620</td>\n",
              "      <td>70.0</td>\n",
              "      <td>F</td>\n",
              "      <td>MA</td>\n",
              "      <td>Faixa Etária</td>\n",
              "      <td>FUNDACAO BUTANTAN</td>\n",
              "      <td>2021-04-29T03:00:00.000Z</td>\n",
              "      <td>2ª Dose</td>\n",
              "      <td>Covid-19-Coronavac-Sinovac/Butantan</td>\n",
              "    </tr>\n",
              "  </tbody>\n",
              "</table>\n",
              "</div>"
            ],
            "text/plain": [
              "                                 document_id  \\\n",
              "0  ddc87995-000b-47a1-b90e-6b0d0563f978-i0b0   \n",
              "1  7b8f308b-b027-4e31-a6c9-1352df60e0c0-i0b0   \n",
              "2  a9410084-eadf-449e-9d8c-fb6cb7f8a719-i0b0   \n",
              "3  45373304-db08-47c9-9174-9cc2a53110b4-i0b0   \n",
              "4  e8b44e85-890d-4e5f-a286-6d1f1b26fba7-i0b0   \n",
              "\n",
              "                                                        paciente_id  \\\n",
              "0  6b16f0c5e10a74e22ad7f043d723f475cf6b1f349db2d159965d2b76eee68964   \n",
              "1  d7390505c9f33725adf5af0de73e5924bdd4db1154b3ad9960902207e71dacee   \n",
              "2  3aec5e352cba8ad396136966088797ec45e9b29aebd136bb744164da0bffa571   \n",
              "3  fafb9a784ebdf54d418b37c1b0e0260cf371c16ead72c6cbafff9fd8c196a00e   \n",
              "4  1b518f76d0415ffdb07e65f875db7f6a8a6ec741748375818a635a4182463620   \n",
              "\n",
              "   paciente_idade paciente_enumSexoBiologico estabelecimento_uf  \\\n",
              "0            23.0                          F                 MA   \n",
              "1            73.0                          F                 MA   \n",
              "2            61.0                          F                 MA   \n",
              "3            23.0                          F                 MA   \n",
              "4            70.0                          F                 MA   \n",
              "\n",
              "    vacina_categoria_nome vacina_fabricante_nome      vacina_dataAplicacao  \\\n",
              "0  Trabalhadores de Saúde  FUNDACAO OSWALDO CRUZ  2021-04-30T03:00:00.000Z   \n",
              "1            Faixa Etária      FUNDACAO BUTANTAN  2021-03-11T03:00:00.000Z   \n",
              "2            Faixa Etária  FUNDACAO OSWALDO CRUZ  2021-04-29T03:00:00.000Z   \n",
              "3         Povos Indígenas      FUNDACAO BUTANTAN  2021-03-12T03:00:00.000Z   \n",
              "4            Faixa Etária      FUNDACAO BUTANTAN  2021-04-29T03:00:00.000Z   \n",
              "\n",
              "  vacina_descricao_dose                          vacina_nome  \n",
              "0               1ª Dose         Vacina Covid-19 - Covishield  \n",
              "1               2ª Dose  Covid-19-Coronavac-Sinovac/Butantan  \n",
              "2               1ª Dose         Vacina Covid-19 - Covishield  \n",
              "3               2ª Dose  Covid-19-Coronavac-Sinovac/Butantan  \n",
              "4               2ª Dose  Covid-19-Coronavac-Sinovac/Butantan  "
            ]
          },
          "metadata": {
            "tags": []
          },
          "execution_count": 5
        }
      ]
    },
    {
      "cell_type": "markdown",
      "metadata": {
        "id": "DCZ3O_Oz-kBK"
      },
      "source": [
        "#### **Análise de valores nulos**"
      ]
    },
    {
      "cell_type": "code",
      "metadata": {
        "colab": {
          "base_uri": "https://localhost:8080/"
        },
        "id": "BPXsokyfkn4w",
        "outputId": "23c4a1ec-82d4-4a91-d08f-419ead49e65b"
      },
      "source": [
        "cnvcc.info(null_counts=True)"
      ],
      "execution_count": 6,
      "outputs": [
        {
          "output_type": "stream",
          "text": [
            "<class 'pandas.core.frame.DataFrame'>\n",
            "RangeIndex: 11718209 entries, 0 to 11718208\n",
            "Data columns (total 10 columns):\n",
            " #   Column                      Non-Null Count     Dtype  \n",
            "---  ------                      --------------     -----  \n",
            " 0   document_id                 11718209 non-null  object \n",
            " 1   paciente_id                 11718208 non-null  object \n",
            " 2   paciente_idade              11718208 non-null  float64\n",
            " 3   paciente_enumSexoBiologico  11718208 non-null  object \n",
            " 4   estabelecimento_uf          11718209 non-null  object \n",
            " 5   vacina_categoria_nome       11659896 non-null  object \n",
            " 6   vacina_fabricante_nome      10913412 non-null  object \n",
            " 7   vacina_dataAplicacao        11718209 non-null  object \n",
            " 8   vacina_descricao_dose       11718209 non-null  object \n",
            " 9   vacina_nome                 11718209 non-null  object \n",
            "dtypes: float64(1), object(9)\n",
            "memory usage: 894.0+ MB\n"
          ],
          "name": "stdout"
        }
      ]
    },
    {
      "cell_type": "markdown",
      "metadata": {
        "id": "MJJZPKMDjpPJ"
      },
      "source": [
        "#### **Centralidade, dispersão e boxplot da Idade**"
      ]
    },
    {
      "cell_type": "code",
      "metadata": {
        "colab": {
          "base_uri": "https://localhost:8080/"
        },
        "id": "TakzrbhY4BPz",
        "outputId": "ac8f45e7-fcc9-407b-a044-d69700b48df7"
      },
      "source": [
        "cnvcc['paciente_idade'].describe()"
      ],
      "execution_count": 7,
      "outputs": [
        {
          "output_type": "execute_result",
          "data": {
            "text/plain": [
              "count    1.171821e+07\n",
              "mean     6.438279e+01\n",
              "std      1.694318e+01\n",
              "min      0.000000e+00\n",
              "25%      6.000000e+01\n",
              "50%      6.800000e+01\n",
              "75%      7.500000e+01\n",
              "max      2.210000e+02\n",
              "Name: paciente_idade, dtype: float64"
            ]
          },
          "metadata": {
            "tags": []
          },
          "execution_count": 7
        }
      ]
    },
    {
      "cell_type": "code",
      "metadata": {
        "colab": {
          "base_uri": "https://localhost:8080/",
          "height": 283
        },
        "id": "OuSt10dQjtbH",
        "outputId": "b99c9dbf-ef93-4576-e8db-55c3cb6c1630"
      },
      "source": [
        "cnvcc.boxplot('paciente_idade')"
      ],
      "execution_count": 8,
      "outputs": [
        {
          "output_type": "execute_result",
          "data": {
            "text/plain": [
              "<matplotlib.axes._subplots.AxesSubplot at 0x7f9a41a01090>"
            ]
          },
          "metadata": {
            "tags": []
          },
          "execution_count": 8
        },
        {
          "output_type": "display_data",
          "data": {
            "image/png": "[encoded data removed]",
            "text/plain": [
              "<Figure size 432x288 with 1 Axes>"
            ]
          },
          "metadata": {
            "tags": [],
            "needs_background": "light"
          }
        }
      ]
    },
    {
      "cell_type": "markdown",
      "metadata": {
        "id": "MHEhsBz8rwnQ"
      },
      "source": [
        "#### **Frequência de pessoas por quantidade de doses**"
      ]
    },
    {
      "cell_type": "code",
      "metadata": {
        "colab": {
          "base_uri": "https://localhost:8080/"
        },
        "id": "8gyDtJWYrvyo",
        "outputId": "cc582b2a-6ba2-4dee-8aa6-a8e661859078"
      },
      "source": [
        "cnvcc.groupby('paciente_id').size().value_counts(dropna=False)"
      ],
      "execution_count": 9,
      "outputs": [
        {
          "output_type": "execute_result",
          "data": {
            "text/plain": [
              "1     4253365\n",
              "2     3438453\n",
              "3      113113\n",
              "4       60974\n",
              "5         659\n",
              "6         203\n",
              "8           9\n",
              "7           5\n",
              "82          1\n",
              "dtype: int64"
            ]
          },
          "metadata": {
            "tags": []
          },
          "execution_count": 9
        }
      ]
    },
    {
      "cell_type": "markdown",
      "metadata": {
        "id": "axUmZ-gH_Jyu"
      },
      "source": [
        "#### **Frequência de pessoas por sexo biológico**"
      ]
    },
    {
      "cell_type": "code",
      "metadata": {
        "colab": {
          "base_uri": "https://localhost:8080/"
        },
        "id": "zFlzAFHVvl6x",
        "outputId": "ca308ea9-194e-4d44-8977-7ebd2e0ecb49"
      },
      "source": [
        "cnvcc['paciente_enumSexoBiologico'].value_counts(dropna=False)"
      ],
      "execution_count": 10,
      "outputs": [
        {
          "output_type": "execute_result",
          "data": {
            "text/plain": [
              "F      6867384\n",
              "M      4850812\n",
              "I           12\n",
              "NaN          1\n",
              "Name: paciente_enumSexoBiologico, dtype: int64"
            ]
          },
          "metadata": {
            "tags": []
          },
          "execution_count": 10
        }
      ]
    },
    {
      "cell_type": "markdown",
      "metadata": {
        "id": "gI0beGAp_RBh"
      },
      "source": [
        "#### **Frequência de pessoas por categoria de vacinação**"
      ]
    },
    {
      "cell_type": "code",
      "metadata": {
        "colab": {
          "base_uri": "https://localhost:8080/"
        },
        "id": "PyB-osVVxLPd",
        "outputId": "c4d99b11-36cb-437c-c972-c1e8e3b4b1a7"
      },
      "source": [
        "cnvcc['vacina_categoria_nome'].value_counts(sort=True, ascending=False, dropna=False)"
      ],
      "execution_count": 11,
      "outputs": [
        {
          "output_type": "execute_result",
          "data": {
            "text/plain": [
              "Faixa Etária                                       8072604\n",
              "Trabalhadores de Saúde                             2670533\n",
              "Povos e Comunidades Tradicionais                    248448\n",
              "Pessoas de 60 anos ou mais institucionalizadas      185409\n",
              "Povos Indígenas                                     166670\n",
              "Comorbidades                                        142589\n",
              "Trabalhadores da Educação                            89650\n",
              "Forças de Segurança e Salvamento                     64255\n",
              "NaN                                                  58313\n",
              "Pessoas com Deficiência                              10348\n",
              "Funcionário do Sistema de Privação de Liberdade       6076\n",
              "Forças Armadas (membros ativos)                       2207\n",
              "Pessoas em Situação de Rua                             468\n",
              "Trabalhadores Portuários                               245\n",
              "População Privada de Liberdade                         212\n",
              "Trabalhadores Industriais                              182\n",
              "Name: vacina_categoria_nome, dtype: int64"
            ]
          },
          "metadata": {
            "tags": []
          },
          "execution_count": 11
        }
      ]
    },
    {
      "cell_type": "markdown",
      "metadata": {
        "id": "8qhJDXTi_aXC"
      },
      "source": [
        "#### **Frequência de pessoas por fabricante de vacina**"
      ]
    },
    {
      "cell_type": "code",
      "metadata": {
        "colab": {
          "base_uri": "https://localhost:8080/"
        },
        "id": "1esdtbd7xP4_",
        "outputId": "a92daab8-5e81-4339-a7e9-4e78e0ef97d4"
      },
      "source": [
        "cnvcc['vacina_nome'].value_counts(sort=True, ascending=False, dropna=False)"
      ],
      "execution_count": 12,
      "outputs": [
        {
          "output_type": "execute_result",
          "data": {
            "text/plain": [
              "Covid-19-Coronavac-Sinovac/Butantan                          8554118\n",
              "Vacina Covid-19 - Covishield                                 2895933\n",
              "Covid-19-AstraZeneca                                          265506\n",
              "Vacina covid-19 - BNT162b2 - BioNTech/Fosun Pharma/Pfizer       2601\n",
              "Vacina covid-19 - Ad26.COV2.S - Janssen-Cilag                     51\n",
              "Name: vacina_nome, dtype: int64"
            ]
          },
          "metadata": {
            "tags": []
          },
          "execution_count": 12
        }
      ]
    },
    {
      "cell_type": "markdown",
      "metadata": {
        "id": "ZT9B3GQT_w-m"
      },
      "source": [
        "#### **Frequência de vacinados por estado**"
      ]
    },
    {
      "cell_type": "code",
      "metadata": {
        "colab": {
          "base_uri": "https://localhost:8080/"
        },
        "id": "5gukmFltxE3Q",
        "outputId": "0573e223-363e-4f51-a407-4132c60286e5"
      },
      "source": [
        "cnvcc['estabelecimento_uf'].value_counts(sort=True, ascending=False, dropna=False)"
      ],
      "execution_count": 13,
      "outputs": [
        {
          "output_type": "execute_result",
          "data": {
            "text/plain": [
              "BA    3317424\n",
              "PE    1932509\n",
              "CE    1527874\n",
              "MA    1343029\n",
              "PB     993899\n",
              "RN     785477\n",
              "AL     679712\n",
              "PI     644210\n",
              "SE     494075\n",
              "Name: estabelecimento_uf, dtype: int64"
            ]
          },
          "metadata": {
            "tags": []
          },
          "execution_count": 13
        }
      ]
    },
    {
      "cell_type": "markdown",
      "metadata": {
        "id": "iDFin_t8t4TW"
      },
      "source": [
        "## **Exploração Inicial - SRAG**\n",
        "\n",
        "[Dicionário de dados do dataset](https://opendatasus.saude.gov.br/dataset/9f76e80f-a2f1-4662-9e37-71084eae23e3/resource/b3321e55-24e9-49ab-8651-29cf5c8f3179/download/dicionario-de-dados-srag-hospitalizado-27.07.2020-final.pdf)"
      ]
    },
    {
      "cell_type": "code",
      "metadata": {
        "id": "zPJ6azuJx3Jp"
      },
      "source": [
        "srag = pd.read_csv('/content/drive/MyDrive/Colab Notebooks/ICD/Datasets/SRAG - 2021.csv')\n",
        "\n",
        "#Seleção de estados do nordeste\n",
        "nordeste = ['AL', 'BA', 'CE', 'MA', 'PB', 'PE', 'PI', 'RN', 'SE']\n",
        "srag = srag[srag['SG_UF'].isin(nordeste)]"
      ],
      "execution_count": 14,
      "outputs": []
    },
    {
      "cell_type": "code",
      "metadata": {
        "colab": {
          "base_uri": "https://localhost:8080/",
          "height": 224
        },
        "id": "LCdhYn0H1S09",
        "outputId": "0ef0a226-6c3e-420d-84da-4cdd13d95bc0"
      },
      "source": [
        "srag.head()"
      ],
      "execution_count": 15,
      "outputs": [
        {
          "output_type": "execute_result",
          "data": {
            "text/html": [
              "<div>\n",
              "<style scoped>\n",
              "    .dataframe tbody tr th:only-of-type {\n",
              "        vertical-align: middle;\n",
              "    }\n",
              "\n",
              "    .dataframe tbody tr th {\n",
              "        vertical-align: top;\n",
              "    }\n",
              "\n",
              "    .dataframe thead th {\n",
              "        text-align: right;\n",
              "    }\n",
              "</style>\n",
              "<table border=\"1\" class=\"dataframe\">\n",
              "  <thead>\n",
              "    <tr style=\"text-align: right;\">\n",
              "      <th></th>\n",
              "      <th>DT_NOTIFIC</th>\n",
              "      <th>SEM_NOT</th>\n",
              "      <th>DT_SIN_PRI</th>\n",
              "      <th>CS_SEXO</th>\n",
              "      <th>NU_IDADE_N</th>\n",
              "      <th>TP_IDADE</th>\n",
              "      <th>CS_GESTANT</th>\n",
              "      <th>CS_ESCOL_N</th>\n",
              "      <th>SG_UF</th>\n",
              "      <th>SURTO_SG</th>\n",
              "      <th>FEBRE</th>\n",
              "      <th>TOSSE</th>\n",
              "      <th>GARGANTA</th>\n",
              "      <th>DISPNEIA</th>\n",
              "      <th>DESC_RESP</th>\n",
              "      <th>SATURACAO</th>\n",
              "      <th>DIARREIA</th>\n",
              "      <th>VOMITO</th>\n",
              "      <th>PUERPERA</th>\n",
              "      <th>FATOR_RISC</th>\n",
              "      <th>CARDIOPATI</th>\n",
              "      <th>HEMATOLOGI</th>\n",
              "      <th>SIND_DOWN</th>\n",
              "      <th>HEPATICA</th>\n",
              "      <th>ASMA</th>\n",
              "      <th>DIABETES</th>\n",
              "      <th>NEUROLOGIC</th>\n",
              "      <th>PNEUMOPATI</th>\n",
              "      <th>IMUNODEPRE</th>\n",
              "      <th>RENAL</th>\n",
              "      <th>OBESIDADE</th>\n",
              "      <th>HOSPITAL</th>\n",
              "      <th>DT_INTERNA</th>\n",
              "      <th>UTI</th>\n",
              "      <th>DT_ENTUTI</th>\n",
              "      <th>DT_SAIDUTI</th>\n",
              "      <th>SUPORT_VEN</th>\n",
              "      <th>CLASSI_FIN</th>\n",
              "      <th>EVOLUCAO</th>\n",
              "      <th>DT_EVOLUCA</th>\n",
              "      <th>DOR_ABD</th>\n",
              "      <th>FADIGA</th>\n",
              "      <th>PERD_OLFT</th>\n",
              "      <th>PERD_PALA</th>\n",
              "    </tr>\n",
              "  </thead>\n",
              "  <tbody>\n",
              "    <tr>\n",
              "      <th>0</th>\n",
              "      <td>05/01/2021</td>\n",
              "      <td>1</td>\n",
              "      <td>05/01/2021</td>\n",
              "      <td>F</td>\n",
              "      <td>51</td>\n",
              "      <td>3</td>\n",
              "      <td>6</td>\n",
              "      <td>2.0</td>\n",
              "      <td>RJ</td>\n",
              "      <td>2.0</td>\n",
              "      <td>1.0</td>\n",
              "      <td>1.0</td>\n",
              "      <td>NaN</td>\n",
              "      <td>1.0</td>\n",
              "      <td>1.0</td>\n",
              "      <td>1.0</td>\n",
              "      <td>NaN</td>\n",
              "      <td>NaN</td>\n",
              "      <td>NaN</td>\n",
              "      <td>N</td>\n",
              "      <td>NaN</td>\n",
              "      <td>NaN</td>\n",
              "      <td>NaN</td>\n",
              "      <td>NaN</td>\n",
              "      <td>NaN</td>\n",
              "      <td>NaN</td>\n",
              "      <td>NaN</td>\n",
              "      <td>NaN</td>\n",
              "      <td>NaN</td>\n",
              "      <td>NaN</td>\n",
              "      <td>NaN</td>\n",
              "      <td>1.0</td>\n",
              "      <td>05/01/2021</td>\n",
              "      <td>1.0</td>\n",
              "      <td>05/01/2021</td>\n",
              "      <td>NaN</td>\n",
              "      <td>1.0</td>\n",
              "      <td>5.0</td>\n",
              "      <td>2.0</td>\n",
              "      <td>21/01/2021</td>\n",
              "      <td>NaN</td>\n",
              "      <td>1.0</td>\n",
              "      <td>NaN</td>\n",
              "      <td>NaN</td>\n",
              "    </tr>\n",
              "    <tr>\n",
              "      <th>1</th>\n",
              "      <td>06/01/2021</td>\n",
              "      <td>1</td>\n",
              "      <td>03/01/2021</td>\n",
              "      <td>F</td>\n",
              "      <td>80</td>\n",
              "      <td>3</td>\n",
              "      <td>5</td>\n",
              "      <td>NaN</td>\n",
              "      <td>PE</td>\n",
              "      <td>NaN</td>\n",
              "      <td>1.0</td>\n",
              "      <td>1.0</td>\n",
              "      <td>NaN</td>\n",
              "      <td>1.0</td>\n",
              "      <td>NaN</td>\n",
              "      <td>1.0</td>\n",
              "      <td>1.0</td>\n",
              "      <td>NaN</td>\n",
              "      <td>NaN</td>\n",
              "      <td>S</td>\n",
              "      <td>1.0</td>\n",
              "      <td>NaN</td>\n",
              "      <td>NaN</td>\n",
              "      <td>NaN</td>\n",
              "      <td>NaN</td>\n",
              "      <td>NaN</td>\n",
              "      <td>1.0</td>\n",
              "      <td>NaN</td>\n",
              "      <td>NaN</td>\n",
              "      <td>NaN</td>\n",
              "      <td>NaN</td>\n",
              "      <td>1.0</td>\n",
              "      <td>05/01/2021</td>\n",
              "      <td>2.0</td>\n",
              "      <td>NaN</td>\n",
              "      <td>NaN</td>\n",
              "      <td>2.0</td>\n",
              "      <td>5.0</td>\n",
              "      <td>2.0</td>\n",
              "      <td>13/01/2021</td>\n",
              "      <td>NaN</td>\n",
              "      <td>NaN</td>\n",
              "      <td>NaN</td>\n",
              "      <td>NaN</td>\n",
              "    </tr>\n",
              "    <tr>\n",
              "      <th>2</th>\n",
              "      <td>07/01/2021</td>\n",
              "      <td>1</td>\n",
              "      <td>04/01/2021</td>\n",
              "      <td>M</td>\n",
              "      <td>40</td>\n",
              "      <td>3</td>\n",
              "      <td>6</td>\n",
              "      <td>3.0</td>\n",
              "      <td>MT</td>\n",
              "      <td>1.0</td>\n",
              "      <td>NaN</td>\n",
              "      <td>1.0</td>\n",
              "      <td>1.0</td>\n",
              "      <td>NaN</td>\n",
              "      <td>NaN</td>\n",
              "      <td>NaN</td>\n",
              "      <td>NaN</td>\n",
              "      <td>NaN</td>\n",
              "      <td>NaN</td>\n",
              "      <td>N</td>\n",
              "      <td>NaN</td>\n",
              "      <td>NaN</td>\n",
              "      <td>NaN</td>\n",
              "      <td>NaN</td>\n",
              "      <td>NaN</td>\n",
              "      <td>NaN</td>\n",
              "      <td>NaN</td>\n",
              "      <td>NaN</td>\n",
              "      <td>NaN</td>\n",
              "      <td>NaN</td>\n",
              "      <td>NaN</td>\n",
              "      <td>2.0</td>\n",
              "      <td>NaN</td>\n",
              "      <td>NaN</td>\n",
              "      <td>NaN</td>\n",
              "      <td>NaN</td>\n",
              "      <td>3.0</td>\n",
              "      <td>5.0</td>\n",
              "      <td>NaN</td>\n",
              "      <td>NaN</td>\n",
              "      <td>NaN</td>\n",
              "      <td>NaN</td>\n",
              "      <td>NaN</td>\n",
              "      <td>NaN</td>\n",
              "    </tr>\n",
              "    <tr>\n",
              "      <th>3</th>\n",
              "      <td>07/01/2021</td>\n",
              "      <td>1</td>\n",
              "      <td>03/01/2021</td>\n",
              "      <td>M</td>\n",
              "      <td>15</td>\n",
              "      <td>3</td>\n",
              "      <td>6</td>\n",
              "      <td>3.0</td>\n",
              "      <td>SP</td>\n",
              "      <td>1.0</td>\n",
              "      <td>1.0</td>\n",
              "      <td>1.0</td>\n",
              "      <td>2.0</td>\n",
              "      <td>2.0</td>\n",
              "      <td>2.0</td>\n",
              "      <td>2.0</td>\n",
              "      <td>2.0</td>\n",
              "      <td>1.0</td>\n",
              "      <td>2.0</td>\n",
              "      <td>S</td>\n",
              "      <td>2.0</td>\n",
              "      <td>2.0</td>\n",
              "      <td>2.0</td>\n",
              "      <td>2.0</td>\n",
              "      <td>2.0</td>\n",
              "      <td>2.0</td>\n",
              "      <td>2.0</td>\n",
              "      <td>2.0</td>\n",
              "      <td>1.0</td>\n",
              "      <td>2.0</td>\n",
              "      <td>2.0</td>\n",
              "      <td>1.0</td>\n",
              "      <td>06/01/2021</td>\n",
              "      <td>2.0</td>\n",
              "      <td>NaN</td>\n",
              "      <td>NaN</td>\n",
              "      <td>3.0</td>\n",
              "      <td>4.0</td>\n",
              "      <td>NaN</td>\n",
              "      <td>NaN</td>\n",
              "      <td>2.0</td>\n",
              "      <td>2.0</td>\n",
              "      <td>2.0</td>\n",
              "      <td>2.0</td>\n",
              "    </tr>\n",
              "    <tr>\n",
              "      <th>4</th>\n",
              "      <td>08/01/2021</td>\n",
              "      <td>1</td>\n",
              "      <td>04/01/2021</td>\n",
              "      <td>F</td>\n",
              "      <td>1</td>\n",
              "      <td>3</td>\n",
              "      <td>6</td>\n",
              "      <td>5.0</td>\n",
              "      <td>PB</td>\n",
              "      <td>2.0</td>\n",
              "      <td>1.0</td>\n",
              "      <td>1.0</td>\n",
              "      <td>2.0</td>\n",
              "      <td>1.0</td>\n",
              "      <td>1.0</td>\n",
              "      <td>2.0</td>\n",
              "      <td>2.0</td>\n",
              "      <td>2.0</td>\n",
              "      <td>NaN</td>\n",
              "      <td>N</td>\n",
              "      <td>NaN</td>\n",
              "      <td>NaN</td>\n",
              "      <td>NaN</td>\n",
              "      <td>NaN</td>\n",
              "      <td>NaN</td>\n",
              "      <td>NaN</td>\n",
              "      <td>NaN</td>\n",
              "      <td>NaN</td>\n",
              "      <td>NaN</td>\n",
              "      <td>NaN</td>\n",
              "      <td>NaN</td>\n",
              "      <td>1.0</td>\n",
              "      <td>08/01/2021</td>\n",
              "      <td>2.0</td>\n",
              "      <td>NaN</td>\n",
              "      <td>NaN</td>\n",
              "      <td>3.0</td>\n",
              "      <td>5.0</td>\n",
              "      <td>1.0</td>\n",
              "      <td>10/01/2021</td>\n",
              "      <td>2.0</td>\n",
              "      <td>2.0</td>\n",
              "      <td>2.0</td>\n",
              "      <td>2.0</td>\n",
              "    </tr>\n",
              "  </tbody>\n",
              "</table>\n",
              "</div>"
            ],
            "text/plain": [
              "   DT_NOTIFIC  SEM_NOT  DT_SIN_PRI CS_SEXO  NU_IDADE_N  TP_IDADE  CS_GESTANT  \\\n",
              "0  05/01/2021        1  05/01/2021       F          51         3           6   \n",
              "1  06/01/2021        1  03/01/2021       F          80         3           5   \n",
              "2  07/01/2021        1  04/01/2021       M          40         3           6   \n",
              "3  07/01/2021        1  03/01/2021       M          15         3           6   \n",
              "4  08/01/2021        1  04/01/2021       F           1         3           6   \n",
              "\n",
              "   CS_ESCOL_N SG_UF  SURTO_SG  FEBRE  TOSSE  GARGANTA  DISPNEIA  DESC_RESP  \\\n",
              "0         2.0    RJ       2.0    1.0    1.0       NaN       1.0        1.0   \n",
              "1         NaN    PE       NaN    1.0    1.0       NaN       1.0        NaN   \n",
              "2         3.0    MT       1.0    NaN    1.0       1.0       NaN        NaN   \n",
              "3         3.0    SP       1.0    1.0    1.0       2.0       2.0        2.0   \n",
              "4         5.0    PB       2.0    1.0    1.0       2.0       1.0        1.0   \n",
              "\n",
              "   SATURACAO  DIARREIA  VOMITO  PUERPERA FATOR_RISC  CARDIOPATI  HEMATOLOGI  \\\n",
              "0        1.0       NaN     NaN       NaN          N         NaN         NaN   \n",
              "1        1.0       1.0     NaN       NaN          S         1.0         NaN   \n",
              "2        NaN       NaN     NaN       NaN          N         NaN         NaN   \n",
              "3        2.0       2.0     1.0       2.0          S         2.0         2.0   \n",
              "4        2.0       2.0     2.0       NaN          N         NaN         NaN   \n",
              "\n",
              "   SIND_DOWN  HEPATICA  ASMA  DIABETES  NEUROLOGIC  PNEUMOPATI  IMUNODEPRE  \\\n",
              "0        NaN       NaN   NaN       NaN         NaN         NaN         NaN   \n",
              "1        NaN       NaN   NaN       NaN         1.0         NaN         NaN   \n",
              "2        NaN       NaN   NaN       NaN         NaN         NaN         NaN   \n",
              "3        2.0       2.0   2.0       2.0         2.0         2.0         1.0   \n",
              "4        NaN       NaN   NaN       NaN         NaN         NaN         NaN   \n",
              "\n",
              "   RENAL  OBESIDADE  HOSPITAL  DT_INTERNA  UTI   DT_ENTUTI DT_SAIDUTI  \\\n",
              "0    NaN        NaN       1.0  05/01/2021  1.0  05/01/2021        NaN   \n",
              "1    NaN        NaN       1.0  05/01/2021  2.0         NaN        NaN   \n",
              "2    NaN        NaN       2.0         NaN  NaN         NaN        NaN   \n",
              "3    2.0        2.0       1.0  06/01/2021  2.0         NaN        NaN   \n",
              "4    NaN        NaN       1.0  08/01/2021  2.0         NaN        NaN   \n",
              "\n",
              "   SUPORT_VEN  CLASSI_FIN  EVOLUCAO  DT_EVOLUCA  DOR_ABD  FADIGA  PERD_OLFT  \\\n",
              "0         1.0         5.0       2.0  21/01/2021      NaN     1.0        NaN   \n",
              "1         2.0         5.0       2.0  13/01/2021      NaN     NaN        NaN   \n",
              "2         3.0         5.0       NaN         NaN      NaN     NaN        NaN   \n",
              "3         3.0         4.0       NaN         NaN      2.0     2.0        2.0   \n",
              "4         3.0         5.0       1.0  10/01/2021      2.0     2.0        2.0   \n",
              "\n",
              "   PERD_PALA  \n",
              "0        NaN  \n",
              "1        NaN  \n",
              "2        NaN  \n",
              "3        2.0  \n",
              "4        2.0  "
            ]
          },
          "metadata": {
            "tags": []
          },
          "execution_count": 15
        }
      ]
    },
    {
      "cell_type": "markdown",
      "metadata": {
        "id": "vhXxFbUz_8Pi"
      },
      "source": [
        "#### **Análise de valores nulos do dataset**"
      ]
    },
    {
      "cell_type": "code",
      "metadata": {
        "colab": {
          "base_uri": "https://localhost:8080/"
        },
        "id": "PwTXasdN4hYF",
        "outputId": "864d3d75-b992-47f1-d305-8d4f4b7d2516"
      },
      "source": [
        "srag.info(null_counts=True)"
      ],
      "execution_count": 16,
      "outputs": [
        {
          "output_type": "stream",
          "text": [
            "<class 'pandas.core.frame.DataFrame'>\n",
            "RangeIndex: 597113 entries, 0 to 597112\n",
            "Data columns (total 44 columns):\n",
            " #   Column      Non-Null Count   Dtype  \n",
            "---  ------      --------------   -----  \n",
            " 0   DT_NOTIFIC  597113 non-null  object \n",
            " 1   SEM_NOT     597113 non-null  int64  \n",
            " 2   DT_SIN_PRI  597113 non-null  object \n",
            " 3   CS_SEXO     597113 non-null  object \n",
            " 4   NU_IDADE_N  597113 non-null  int64  \n",
            " 5   TP_IDADE    597113 non-null  int64  \n",
            " 6   CS_GESTANT  597113 non-null  int64  \n",
            " 7   CS_ESCOL_N  393198 non-null  float64\n",
            " 8   SG_UF       597039 non-null  object \n",
            " 9   SURTO_SG    187973 non-null  float64\n",
            " 10  FEBRE       497566 non-null  float64\n",
            " 11  TOSSE       515633 non-null  float64\n",
            " 12  GARGANTA    418937 non-null  float64\n",
            " 13  DISPNEIA    525576 non-null  float64\n",
            " 14  DESC_RESP   486096 non-null  float64\n",
            " 15  SATURACAO   505239 non-null  float64\n",
            " 16  DIARREIA    414343 non-null  float64\n",
            " 17  VOMITO      406509 non-null  float64\n",
            " 18  PUERPERA    217337 non-null  float64\n",
            " 19  FATOR_RISC  597113 non-null  object \n",
            " 20  CARDIOPATI  285553 non-null  float64\n",
            " 21  HEMATOLOGI  218022 non-null  float64\n",
            " 22  SIND_DOWN   217361 non-null  float64\n",
            " 23  HEPATICA    217438 non-null  float64\n",
            " 24  ASMA        221163 non-null  float64\n",
            " 25  DIABETES    264865 non-null  float64\n",
            " 26  NEUROLOGIC  222657 non-null  float64\n",
            " 27  PNEUMOPATI  222713 non-null  float64\n",
            " 28  IMUNODEPRE  220017 non-null  float64\n",
            " 29  RENAL       221373 non-null  float64\n",
            " 30  OBESIDADE   231397 non-null  float64\n",
            " 31  HOSPITAL    582661 non-null  float64\n",
            " 32  DT_INTERNA  559946 non-null  object \n",
            " 33  UTI         522347 non-null  float64\n",
            " 34  DT_ENTUTI   171591 non-null  object \n",
            " 35  DT_SAIDUTI  90425 non-null   object \n",
            " 36  SUPORT_VEN  524879 non-null  float64\n",
            " 37  CLASSI_FIN  597113 non-null  float64\n",
            " 38  EVOLUCAO    492097 non-null  float64\n",
            " 39  DT_EVOLUCA  451747 non-null  object \n",
            " 40  DOR_ABD     398088 non-null  float64\n",
            " 41  FADIGA      422619 non-null  float64\n",
            " 42  PERD_OLFT   404495 non-null  float64\n",
            " 43  PERD_PALA   404315 non-null  float64\n",
            "dtypes: float64(31), int64(4), object(9)\n",
            "memory usage: 200.4+ MB\n"
          ],
          "name": "stdout"
        }
      ]
    },
    {
      "cell_type": "markdown",
      "metadata": {
        "id": "4E8G2KISx3Jq"
      },
      "source": [
        "#### **Centralidade, dispersão e boxplot da Idade**"
      ]
    },
    {
      "cell_type": "code",
      "metadata": {
        "colab": {
          "base_uri": "https://localhost:8080/"
        },
        "id": "8EBtLpk4y7e8",
        "outputId": "394b1265-3b6d-4495-fa01-83b8eba26b6c"
      },
      "source": [
        "srag['NU_IDADE_N'].describe()"
      ],
      "execution_count": 17,
      "outputs": [
        {
          "output_type": "execute_result",
          "data": {
            "text/plain": [
              "count    597113.000000\n",
              "mean         56.778002\n",
              "std          20.212005\n",
              "min         -77.000000\n",
              "25%          45.000000\n",
              "50%          59.000000\n",
              "75%          71.000000\n",
              "max         136.000000\n",
              "Name: NU_IDADE_N, dtype: float64"
            ]
          },
          "metadata": {
            "tags": []
          },
          "execution_count": 17
        }
      ]
    },
    {
      "cell_type": "code",
      "metadata": {
        "colab": {
          "base_uri": "https://localhost:8080/",
          "height": 283
        },
        "id": "C5xJx7EPx3Js",
        "outputId": "8b97f278-97cb-4f04-9731-97429f81f708"
      },
      "source": [
        "srag.boxplot(\"NU_IDADE_N\")"
      ],
      "execution_count": 18,
      "outputs": [
        {
          "output_type": "execute_result",
          "data": {
            "text/plain": [
              "<matplotlib.axes._subplots.AxesSubplot at 0x7f9a419aa890>"
            ]
          },
          "metadata": {
            "tags": []
          },
          "execution_count": 18
        },
        {
          "output_type": "display_data",
          "data": {
            "image/png": "[encoded data removed]",
            "text/plain": [
              "<Figure size 432x288 with 1 Axes>"
            ]
          },
          "metadata": {
            "tags": [],
            "needs_background": "light"
          }
        }
      ]
    },
    {
      "cell_type": "markdown",
      "metadata": {
        "id": "gka_cnYWx3Jt"
      },
      "source": [
        "#### **Análise de validade dos anos das datas registradas**"
      ]
    },
    {
      "cell_type": "code",
      "metadata": {
        "colab": {
          "base_uri": "https://localhost:8080/"
        },
        "id": "_Ck1Bup76r2h",
        "outputId": "afff0c8f-abe2-4e34-bd13-b1703a106736"
      },
      "source": [
        "colunas_datatime = ['DT_NOTIFIC', 'DT_SIN_PRI', 'DT_INTERNA', 'DT_ENTUTI', 'DT_SAIDUTI', 'DT_EVOLUCA']\n",
        "\n",
        "for column in colunas_datatime:\n",
        "    print(column, srag[column].str[6:10].unique())"
      ],
      "execution_count": 19,
      "outputs": [
        {
          "output_type": "stream",
          "text": [
            "DT_NOTIFIC ['2021']\n",
            "DT_SIN_PRI ['2021']\n",
            "DT_INTERNA ['2021' nan '2020' '2202' '2024' '2121' '5202' '2025' '3021' '7202' '3202'\n",
            " '2022' '2012' '4202' '2019' '2023']\n",
            "DT_ENTUTI ['2021' nan '2020' '2202' '2022' '2121' '4202' '2023' '7202' '2019' '2024']\n",
            "DT_SAIDUTI [nan '2021' '2020']\n",
            "DT_EVOLUCA ['2021' nan]\n"
          ],
          "name": "stdout"
        }
      ]
    },
    {
      "cell_type": "markdown",
      "metadata": {
        "id": "nSrTpej8AWWZ"
      },
      "source": [
        "#### **Transformação de dados para análise dos tempos de internação e UTI**"
      ]
    },
    {
      "cell_type": "code",
      "metadata": {
        "id": "W7RRo02_x3Jq"
      },
      "source": [
        "#Conversao para datetime\n",
        "colunas_datatime = ['DT_NOTIFIC', 'DT_SIN_PRI', 'DT_INTERNA', 'DT_ENTUTI', 'DT_SAIDUTI', 'DT_EVOLUCA']\n",
        "\n",
        "for coluna in colunas_datatime:\n",
        "    srag[coluna] = pd.to_datetime(srag[coluna], errors=\"coerce\", dayfirst=True)"
      ],
      "execution_count": 20,
      "outputs": []
    },
    {
      "cell_type": "code",
      "metadata": {
        "id": "-Ie7K1PCx3Jq"
      },
      "source": [
        "#Criacao das colunas tempo de internação e UTI\n",
        "srag[\"TEMPO_INTER\"] = ((srag[\"DT_EVOLUCA\"] - srag[\"DT_INTERNA\"]).dt.days).astype(\"Int64\")\n",
        "srag[\"TEMPO_UTI\"] = ((srag[\"DT_SAIDUTI\"] - srag[\"DT_ENTUTI\"]).dt.days).astype(\"Int64\")"
      ],
      "execution_count": 21,
      "outputs": []
    },
    {
      "cell_type": "code",
      "metadata": {
        "colab": {
          "base_uri": "https://localhost:8080/",
          "height": 224
        },
        "id": "yc13Yl914HsJ",
        "outputId": "233be7f0-185a-49e4-8cb7-ea252283f852"
      },
      "source": [
        "srag.head()"
      ],
      "execution_count": 22,
      "outputs": [
        {
          "output_type": "execute_result",
          "data": {
            "text/html": [
              "<div>\n",
              "<style scoped>\n",
              "    .dataframe tbody tr th:only-of-type {\n",
              "        vertical-align: middle;\n",
              "    }\n",
              "\n",
              "    .dataframe tbody tr th {\n",
              "        vertical-align: top;\n",
              "    }\n",
              "\n",
              "    .dataframe thead th {\n",
              "        text-align: right;\n",
              "    }\n",
              "</style>\n",
              "<table border=\"1\" class=\"dataframe\">\n",
              "  <thead>\n",
              "    <tr style=\"text-align: right;\">\n",
              "      <th></th>\n",
              "      <th>DT_NOTIFIC</th>\n",
              "      <th>SEM_NOT</th>\n",
              "      <th>DT_SIN_PRI</th>\n",
              "      <th>CS_SEXO</th>\n",
              "      <th>NU_IDADE_N</th>\n",
              "      <th>TP_IDADE</th>\n",
              "      <th>CS_GESTANT</th>\n",
              "      <th>CS_ESCOL_N</th>\n",
              "      <th>SG_UF</th>\n",
              "      <th>SURTO_SG</th>\n",
              "      <th>FEBRE</th>\n",
              "      <th>TOSSE</th>\n",
              "      <th>GARGANTA</th>\n",
              "      <th>DISPNEIA</th>\n",
              "      <th>DESC_RESP</th>\n",
              "      <th>SATURACAO</th>\n",
              "      <th>DIARREIA</th>\n",
              "      <th>VOMITO</th>\n",
              "      <th>PUERPERA</th>\n",
              "      <th>FATOR_RISC</th>\n",
              "      <th>CARDIOPATI</th>\n",
              "      <th>HEMATOLOGI</th>\n",
              "      <th>SIND_DOWN</th>\n",
              "      <th>HEPATICA</th>\n",
              "      <th>ASMA</th>\n",
              "      <th>DIABETES</th>\n",
              "      <th>NEUROLOGIC</th>\n",
              "      <th>PNEUMOPATI</th>\n",
              "      <th>IMUNODEPRE</th>\n",
              "      <th>RENAL</th>\n",
              "      <th>OBESIDADE</th>\n",
              "      <th>HOSPITAL</th>\n",
              "      <th>DT_INTERNA</th>\n",
              "      <th>UTI</th>\n",
              "      <th>DT_ENTUTI</th>\n",
              "      <th>DT_SAIDUTI</th>\n",
              "      <th>SUPORT_VEN</th>\n",
              "      <th>CLASSI_FIN</th>\n",
              "      <th>EVOLUCAO</th>\n",
              "      <th>DT_EVOLUCA</th>\n",
              "      <th>DOR_ABD</th>\n",
              "      <th>FADIGA</th>\n",
              "      <th>PERD_OLFT</th>\n",
              "      <th>PERD_PALA</th>\n",
              "      <th>TEMPO_INTER</th>\n",
              "      <th>TEMPO_UTI</th>\n",
              "    </tr>\n",
              "  </thead>\n",
              "  <tbody>\n",
              "    <tr>\n",
              "      <th>0</th>\n",
              "      <td>2021-01-05</td>\n",
              "      <td>1</td>\n",
              "      <td>2021-01-05</td>\n",
              "      <td>F</td>\n",
              "      <td>51</td>\n",
              "      <td>3</td>\n",
              "      <td>6</td>\n",
              "      <td>2.0</td>\n",
              "      <td>RJ</td>\n",
              "      <td>2.0</td>\n",
              "      <td>1.0</td>\n",
              "      <td>1.0</td>\n",
              "      <td>NaN</td>\n",
              "      <td>1.0</td>\n",
              "      <td>1.0</td>\n",
              "      <td>1.0</td>\n",
              "      <td>NaN</td>\n",
              "      <td>NaN</td>\n",
              "      <td>NaN</td>\n",
              "      <td>N</td>\n",
              "      <td>NaN</td>\n",
              "      <td>NaN</td>\n",
              "      <td>NaN</td>\n",
              "      <td>NaN</td>\n",
              "      <td>NaN</td>\n",
              "      <td>NaN</td>\n",
              "      <td>NaN</td>\n",
              "      <td>NaN</td>\n",
              "      <td>NaN</td>\n",
              "      <td>NaN</td>\n",
              "      <td>NaN</td>\n",
              "      <td>1.0</td>\n",
              "      <td>2021-01-05</td>\n",
              "      <td>1.0</td>\n",
              "      <td>2021-01-05</td>\n",
              "      <td>NaT</td>\n",
              "      <td>1.0</td>\n",
              "      <td>5.0</td>\n",
              "      <td>2.0</td>\n",
              "      <td>2021-01-21</td>\n",
              "      <td>NaN</td>\n",
              "      <td>1.0</td>\n",
              "      <td>NaN</td>\n",
              "      <td>NaN</td>\n",
              "      <td>16</td>\n",
              "      <td>&lt;NA&gt;</td>\n",
              "    </tr>\n",
              "    <tr>\n",
              "      <th>1</th>\n",
              "      <td>2021-01-06</td>\n",
              "      <td>1</td>\n",
              "      <td>2021-01-03</td>\n",
              "      <td>F</td>\n",
              "      <td>80</td>\n",
              "      <td>3</td>\n",
              "      <td>5</td>\n",
              "      <td>NaN</td>\n",
              "      <td>PE</td>\n",
              "      <td>NaN</td>\n",
              "      <td>1.0</td>\n",
              "      <td>1.0</td>\n",
              "      <td>NaN</td>\n",
              "      <td>1.0</td>\n",
              "      <td>NaN</td>\n",
              "      <td>1.0</td>\n",
              "      <td>1.0</td>\n",
              "      <td>NaN</td>\n",
              "      <td>NaN</td>\n",
              "      <td>S</td>\n",
              "      <td>1.0</td>\n",
              "      <td>NaN</td>\n",
              "      <td>NaN</td>\n",
              "      <td>NaN</td>\n",
              "      <td>NaN</td>\n",
              "      <td>NaN</td>\n",
              "      <td>1.0</td>\n",
              "      <td>NaN</td>\n",
              "      <td>NaN</td>\n",
              "      <td>NaN</td>\n",
              "      <td>NaN</td>\n",
              "      <td>1.0</td>\n",
              "      <td>2021-01-05</td>\n",
              "      <td>2.0</td>\n",
              "      <td>NaT</td>\n",
              "      <td>NaT</td>\n",
              "      <td>2.0</td>\n",
              "      <td>5.0</td>\n",
              "      <td>2.0</td>\n",
              "      <td>2021-01-13</td>\n",
              "      <td>NaN</td>\n",
              "      <td>NaN</td>\n",
              "      <td>NaN</td>\n",
              "      <td>NaN</td>\n",
              "      <td>8</td>\n",
              "      <td>&lt;NA&gt;</td>\n",
              "    </tr>\n",
              "    <tr>\n",
              "      <th>2</th>\n",
              "      <td>2021-01-07</td>\n",
              "      <td>1</td>\n",
              "      <td>2021-01-04</td>\n",
              "      <td>M</td>\n",
              "      <td>40</td>\n",
              "      <td>3</td>\n",
              "      <td>6</td>\n",
              "      <td>3.0</td>\n",
              "      <td>MT</td>\n",
              "      <td>1.0</td>\n",
              "      <td>NaN</td>\n",
              "      <td>1.0</td>\n",
              "      <td>1.0</td>\n",
              "      <td>NaN</td>\n",
              "      <td>NaN</td>\n",
              "      <td>NaN</td>\n",
              "      <td>NaN</td>\n",
              "      <td>NaN</td>\n",
              "      <td>NaN</td>\n",
              "      <td>N</td>\n",
              "      <td>NaN</td>\n",
              "      <td>NaN</td>\n",
              "      <td>NaN</td>\n",
              "      <td>NaN</td>\n",
              "      <td>NaN</td>\n",
              "      <td>NaN</td>\n",
              "      <td>NaN</td>\n",
              "      <td>NaN</td>\n",
              "      <td>NaN</td>\n",
              "      <td>NaN</td>\n",
              "      <td>NaN</td>\n",
              "      <td>2.0</td>\n",
              "      <td>NaT</td>\n",
              "      <td>NaN</td>\n",
              "      <td>NaT</td>\n",
              "      <td>NaT</td>\n",
              "      <td>3.0</td>\n",
              "      <td>5.0</td>\n",
              "      <td>NaN</td>\n",
              "      <td>NaT</td>\n",
              "      <td>NaN</td>\n",
              "      <td>NaN</td>\n",
              "      <td>NaN</td>\n",
              "      <td>NaN</td>\n",
              "      <td>&lt;NA&gt;</td>\n",
              "      <td>&lt;NA&gt;</td>\n",
              "    </tr>\n",
              "    <tr>\n",
              "      <th>3</th>\n",
              "      <td>2021-01-07</td>\n",
              "      <td>1</td>\n",
              "      <td>2021-01-03</td>\n",
              "      <td>M</td>\n",
              "      <td>15</td>\n",
              "      <td>3</td>\n",
              "      <td>6</td>\n",
              "      <td>3.0</td>\n",
              "      <td>SP</td>\n",
              "      <td>1.0</td>\n",
              "      <td>1.0</td>\n",
              "      <td>1.0</td>\n",
              "      <td>2.0</td>\n",
              "      <td>2.0</td>\n",
              "      <td>2.0</td>\n",
              "      <td>2.0</td>\n",
              "      <td>2.0</td>\n",
              "      <td>1.0</td>\n",
              "      <td>2.0</td>\n",
              "      <td>S</td>\n",
              "      <td>2.0</td>\n",
              "      <td>2.0</td>\n",
              "      <td>2.0</td>\n",
              "      <td>2.0</td>\n",
              "      <td>2.0</td>\n",
              "      <td>2.0</td>\n",
              "      <td>2.0</td>\n",
              "      <td>2.0</td>\n",
              "      <td>1.0</td>\n",
              "      <td>2.0</td>\n",
              "      <td>2.0</td>\n",
              "      <td>1.0</td>\n",
              "      <td>2021-01-06</td>\n",
              "      <td>2.0</td>\n",
              "      <td>NaT</td>\n",
              "      <td>NaT</td>\n",
              "      <td>3.0</td>\n",
              "      <td>4.0</td>\n",
              "      <td>NaN</td>\n",
              "      <td>NaT</td>\n",
              "      <td>2.0</td>\n",
              "      <td>2.0</td>\n",
              "      <td>2.0</td>\n",
              "      <td>2.0</td>\n",
              "      <td>&lt;NA&gt;</td>\n",
              "      <td>&lt;NA&gt;</td>\n",
              "    </tr>\n",
              "    <tr>\n",
              "      <th>4</th>\n",
              "      <td>2021-01-08</td>\n",
              "      <td>1</td>\n",
              "      <td>2021-01-04</td>\n",
              "      <td>F</td>\n",
              "      <td>1</td>\n",
              "      <td>3</td>\n",
              "      <td>6</td>\n",
              "      <td>5.0</td>\n",
              "      <td>PB</td>\n",
              "      <td>2.0</td>\n",
              "      <td>1.0</td>\n",
              "      <td>1.0</td>\n",
              "      <td>2.0</td>\n",
              "      <td>1.0</td>\n",
              "      <td>1.0</td>\n",
              "      <td>2.0</td>\n",
              "      <td>2.0</td>\n",
              "      <td>2.0</td>\n",
              "      <td>NaN</td>\n",
              "      <td>N</td>\n",
              "      <td>NaN</td>\n",
              "      <td>NaN</td>\n",
              "      <td>NaN</td>\n",
              "      <td>NaN</td>\n",
              "      <td>NaN</td>\n",
              "      <td>NaN</td>\n",
              "      <td>NaN</td>\n",
              "      <td>NaN</td>\n",
              "      <td>NaN</td>\n",
              "      <td>NaN</td>\n",
              "      <td>NaN</td>\n",
              "      <td>1.0</td>\n",
              "      <td>2021-01-08</td>\n",
              "      <td>2.0</td>\n",
              "      <td>NaT</td>\n",
              "      <td>NaT</td>\n",
              "      <td>3.0</td>\n",
              "      <td>5.0</td>\n",
              "      <td>1.0</td>\n",
              "      <td>2021-01-10</td>\n",
              "      <td>2.0</td>\n",
              "      <td>2.0</td>\n",
              "      <td>2.0</td>\n",
              "      <td>2.0</td>\n",
              "      <td>2</td>\n",
              "      <td>&lt;NA&gt;</td>\n",
              "    </tr>\n",
              "  </tbody>\n",
              "</table>\n",
              "</div>"
            ],
            "text/plain": [
              "  DT_NOTIFIC  SEM_NOT DT_SIN_PRI CS_SEXO  NU_IDADE_N  TP_IDADE  CS_GESTANT  \\\n",
              "0 2021-01-05        1 2021-01-05       F          51         3           6   \n",
              "1 2021-01-06        1 2021-01-03       F          80         3           5   \n",
              "2 2021-01-07        1 2021-01-04       M          40         3           6   \n",
              "3 2021-01-07        1 2021-01-03       M          15         3           6   \n",
              "4 2021-01-08        1 2021-01-04       F           1         3           6   \n",
              "\n",
              "   CS_ESCOL_N SG_UF  SURTO_SG  FEBRE  TOSSE  GARGANTA  DISPNEIA  DESC_RESP  \\\n",
              "0         2.0    RJ       2.0    1.0    1.0       NaN       1.0        1.0   \n",
              "1         NaN    PE       NaN    1.0    1.0       NaN       1.0        NaN   \n",
              "2         3.0    MT       1.0    NaN    1.0       1.0       NaN        NaN   \n",
              "3         3.0    SP       1.0    1.0    1.0       2.0       2.0        2.0   \n",
              "4         5.0    PB       2.0    1.0    1.0       2.0       1.0        1.0   \n",
              "\n",
              "   SATURACAO  DIARREIA  VOMITO  PUERPERA FATOR_RISC  CARDIOPATI  HEMATOLOGI  \\\n",
              "0        1.0       NaN     NaN       NaN          N         NaN         NaN   \n",
              "1        1.0       1.0     NaN       NaN          S         1.0         NaN   \n",
              "2        NaN       NaN     NaN       NaN          N         NaN         NaN   \n",
              "3        2.0       2.0     1.0       2.0          S         2.0         2.0   \n",
              "4        2.0       2.0     2.0       NaN          N         NaN         NaN   \n",
              "\n",
              "   SIND_DOWN  HEPATICA  ASMA  DIABETES  NEUROLOGIC  PNEUMOPATI  IMUNODEPRE  \\\n",
              "0        NaN       NaN   NaN       NaN         NaN         NaN         NaN   \n",
              "1        NaN       NaN   NaN       NaN         1.0         NaN         NaN   \n",
              "2        NaN       NaN   NaN       NaN         NaN         NaN         NaN   \n",
              "3        2.0       2.0   2.0       2.0         2.0         2.0         1.0   \n",
              "4        NaN       NaN   NaN       NaN         NaN         NaN         NaN   \n",
              "\n",
              "   RENAL  OBESIDADE  HOSPITAL DT_INTERNA  UTI  DT_ENTUTI DT_SAIDUTI  \\\n",
              "0    NaN        NaN       1.0 2021-01-05  1.0 2021-01-05        NaT   \n",
              "1    NaN        NaN       1.0 2021-01-05  2.0        NaT        NaT   \n",
              "2    NaN        NaN       2.0        NaT  NaN        NaT        NaT   \n",
              "3    2.0        2.0       1.0 2021-01-06  2.0        NaT        NaT   \n",
              "4    NaN        NaN       1.0 2021-01-08  2.0        NaT        NaT   \n",
              "\n",
              "   SUPORT_VEN  CLASSI_FIN  EVOLUCAO DT_EVOLUCA  DOR_ABD  FADIGA  PERD_OLFT  \\\n",
              "0         1.0         5.0       2.0 2021-01-21      NaN     1.0        NaN   \n",
              "1         2.0         5.0       2.0 2021-01-13      NaN     NaN        NaN   \n",
              "2         3.0         5.0       NaN        NaT      NaN     NaN        NaN   \n",
              "3         3.0         4.0       NaN        NaT      2.0     2.0        2.0   \n",
              "4         3.0         5.0       1.0 2021-01-10      2.0     2.0        2.0   \n",
              "\n",
              "   PERD_PALA  TEMPO_INTER  TEMPO_UTI  \n",
              "0        NaN           16       <NA>  \n",
              "1        NaN            8       <NA>  \n",
              "2        NaN         <NA>       <NA>  \n",
              "3        2.0         <NA>       <NA>  \n",
              "4        2.0            2       <NA>  "
            ]
          },
          "metadata": {
            "tags": []
          },
          "execution_count": 22
        }
      ]
    },
    {
      "cell_type": "markdown",
      "metadata": {
        "id": "w2_7jejvAgSd"
      },
      "source": [
        "#### **Analise de valores nulos do tempo de internação e UTI**"
      ]
    },
    {
      "cell_type": "code",
      "metadata": {
        "colab": {
          "base_uri": "https://localhost:8080/"
        },
        "id": "P8_v-YY55rSb",
        "outputId": "bafcfae0-c927-4c1a-aba0-1e7acd7e3d79"
      },
      "source": [
        "srag[['TEMPO_INTER', 'TEMPO_UTI']].info(null_counts=True)"
      ],
      "execution_count": 23,
      "outputs": [
        {
          "output_type": "stream",
          "text": [
            "<class 'pandas.core.frame.DataFrame'>\n",
            "RangeIndex: 597113 entries, 0 to 597112\n",
            "Data columns (total 2 columns):\n",
            " #   Column       Non-Null Count   Dtype\n",
            "---  ------       --------------   -----\n",
            " 0   TEMPO_INTER  427340 non-null  Int64\n",
            " 1   TEMPO_UTI    90142 non-null   Int64\n",
            "dtypes: Int64(2)\n",
            "memory usage: 10.3 MB\n"
          ],
          "name": "stdout"
        }
      ]
    },
    {
      "cell_type": "markdown",
      "metadata": {
        "id": "N2xUMPfb6Nx2"
      },
      "source": [
        "#### **Centralidade, dispersão e boxplot do tempo de internação**"
      ]
    },
    {
      "cell_type": "code",
      "metadata": {
        "colab": {
          "base_uri": "https://localhost:8080/"
        },
        "id": "7jOb8Zv3z60n",
        "outputId": "168d0eee-1ef7-43c9-e0bf-3fead4fa6470"
      },
      "source": [
        "srag[\"TEMPO_INTER\"].describe()"
      ],
      "execution_count": 24,
      "outputs": [
        {
          "output_type": "execute_result",
          "data": {
            "text/plain": [
              "count    427340.000000\n",
              "mean          9.453295\n",
              "std          10.395275\n",
              "min           0.000000\n",
              "25%           4.000000\n",
              "50%           7.000000\n",
              "75%          12.000000\n",
              "max        3293.000000\n",
              "Name: TEMPO_INTER, dtype: float64"
            ]
          },
          "metadata": {
            "tags": []
          },
          "execution_count": 24
        }
      ]
    },
    {
      "cell_type": "code",
      "metadata": {
        "colab": {
          "base_uri": "https://localhost:8080/",
          "height": 283
        },
        "id": "Qgn79a6Fx3Jt",
        "outputId": "fabc68cf-45cd-4692-dc91-5e387c52958a"
      },
      "source": [
        "srag.boxplot(\"TEMPO_INTER\")"
      ],
      "execution_count": 25,
      "outputs": [
        {
          "output_type": "execute_result",
          "data": {
            "text/plain": [
              "<matplotlib.axes._subplots.AxesSubplot at 0x7f9a41436590>"
            ]
          },
          "metadata": {
            "tags": []
          },
          "execution_count": 25
        },
        {
          "output_type": "display_data",
          "data": {
            "image/png": "[encoded data removed]",
            "text/plain": [
              "<Figure size 432x288 with 1 Axes>"
            ]
          },
          "metadata": {
            "tags": [],
            "needs_background": "light"
          }
        }
      ]
    },
    {
      "cell_type": "markdown",
      "metadata": {
        "id": "JCQiK6WBx3Ju"
      },
      "source": [
        "#### **Centralidade, dispersão e boxplot do tempo de UTI**"
      ]
    },
    {
      "cell_type": "code",
      "metadata": {
        "colab": {
          "base_uri": "https://localhost:8080/"
        },
        "id": "Ss-I-cru0NQY",
        "outputId": "eb8bfde9-2650-484b-fe6f-329afe147b75"
      },
      "source": [
        "srag[\"TEMPO_UTI\"].describe()"
      ],
      "execution_count": 26,
      "outputs": [
        {
          "output_type": "execute_result",
          "data": {
            "text/plain": [
              "count    90142.000000\n",
              "mean         9.697688\n",
              "std          9.065177\n",
              "min          0.000000\n",
              "25%          3.000000\n",
              "50%          7.000000\n",
              "75%         13.000000\n",
              "max        287.000000\n",
              "Name: TEMPO_UTI, dtype: float64"
            ]
          },
          "metadata": {
            "tags": []
          },
          "execution_count": 26
        }
      ]
    },
    {
      "cell_type": "code",
      "metadata": {
        "colab": {
          "base_uri": "https://localhost:8080/",
          "height": 286
        },
        "id": "6AfNJlonx3Ju",
        "outputId": "c447e37f-f5d1-45dd-b056-ad3a93e357b9"
      },
      "source": [
        "srag.boxplot(\"TEMPO_UTI\")"
      ],
      "execution_count": 27,
      "outputs": [
        {
          "output_type": "execute_result",
          "data": {
            "text/plain": [
              "<matplotlib.axes._subplots.AxesSubplot at 0x7f9a40a41ad0>"
            ]
          },
          "metadata": {
            "tags": []
          },
          "execution_count": 27
        },
        {
          "output_type": "display_data",
          "data": {
            "image/png": "[encoded data removed]",
            "text/plain": [
              "<Figure size 432x288 with 1 Axes>"
            ]
          },
          "metadata": {
            "tags": [],
            "needs_background": "light"
          }
        }
      ]
    },
    {
      "cell_type": "markdown",
      "metadata": {
        "id": "yqBsUwIhAqfT"
      },
      "source": [
        "#### **Análise dos valores únicos de cada atributo**"
      ]
    },
    {
      "cell_type": "code",
      "metadata": {
        "colab": {
          "base_uri": "https://localhost:8080/"
        },
        "id": "Z-5epICn7iUw",
        "outputId": "fd4ecb29-595b-4946-cd16-c1becf0bfa1d"
      },
      "source": [
        "desconsiderar = set(colunas_datatime) | set(['NU_IDADE_N', 'SG_UF', 'TEMPO_INTER', 'TEMPO_UTI'])\n",
        "for coluna in set(srag.columns) - desconsiderar:\n",
        "    print(coluna, srag[coluna].unique())"
      ],
      "execution_count": 29,
      "outputs": [
        {
          "output_type": "stream",
          "text": [
            "FEBRE [ 1. nan  2.  9.]\n",
            "SUPORT_VEN [ 1.  2.  3. nan  9.]\n",
            "DIARREIA [nan  1.  2.  9.]\n",
            "DESC_RESP [ 1. nan  2.  9.]\n",
            "NEUROLOGIC [nan  1.  2.  9.]\n",
            "ASMA [nan  2.  1.  9.]\n",
            "PNEUMOPATI [nan  2.  1.  9.]\n",
            "FADIGA [ 1. nan  2.  9.]\n",
            "IMUNODEPRE [nan  1.  2.  9.]\n",
            "EVOLUCAO [ 2. nan  1.  9.  3.]\n",
            "RENAL [nan  2.  1.  9.]\n",
            "SATURACAO [ 1. nan  2.  9.]\n",
            "PERD_OLFT [nan  2.  9.  1.]\n",
            "CS_ESCOL_N [ 2. nan  3.  5.  9.  4.  1.  0.]\n",
            "CARDIOPATI [nan  1.  2.  9.]\n",
            "DISPNEIA [ 1. nan  2.  9.]\n",
            "SURTO_SG [ 2. nan  1.  9.]\n",
            "SEM_NOT [ 1  2 15  3  4  5  6  7  8  9 10 11 14 12 13 16 17 18]\n",
            "VOMITO [nan  1.  2.  9.]\n",
            "HEMATOLOGI [nan  2.  1.  9.]\n",
            "HOSPITAL [ 1.  2. nan  9.]\n",
            "DOR_ABD [nan  2.  1.  9.]\n",
            "PERD_PALA [nan  2.  9.  1.]\n",
            "CS_SEXO ['F' 'M' 'I']\n",
            "TOSSE [ 1.  2. nan  9.]\n",
            "FATOR_RISC ['N' 'S']\n",
            "PUERPERA [nan  2.  9.  1.]\n",
            "CLASSI_FIN [5. 4. 2. 1. 3.]\n",
            "OBESIDADE [nan  2.  1.  9.]\n",
            "DIABETES [nan  2.  1.  9.]\n",
            "TP_IDADE [3 2 1]\n",
            "UTI [ 1.  2. nan  9.]\n",
            "SIND_DOWN [nan  2.  9.  1.]\n",
            "CS_GESTANT [6 5 9 3 4 2 1 0]\n",
            "GARGANTA [nan  1.  2.  9.]\n",
            "HEPATICA [nan  2.  1.  9.]\n"
          ],
          "name": "stdout"
        }
      ]
    }
  ]
}
