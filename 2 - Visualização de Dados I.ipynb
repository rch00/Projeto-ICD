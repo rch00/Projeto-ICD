{
  "nbformat": 4,
  "nbformat_minor": 0,
  "metadata": {
    "kernelspec": {
      "display_name": "Python 3",
      "language": "python",
      "name": "python3"
    },
    "language_info": {
      "codemirror_mode": {
        "name": "ipython",
        "version": 3
      },
      "file_extension": ".py",
      "mimetype": "text/x-python",
      "name": "python",
      "nbconvert_exporter": "python",
      "pygments_lexer": "ipython3",
      "version": "3.7.6"
    },
    "colab": {
      "name": "2 - Visualização de Dados.ipynb",
      "provenance": [],
      "collapsed_sections": []
    }
  },
  "cells": [
    {
      "cell_type": "markdown",
      "metadata": {
        "id": "0ygNH_x-ETL7"
      },
      "source": [
        "# **Introdução à Ciência de Dados**\n",
        "\n",
        "**Professor**: Yuri Malheiros\n",
        "\n",
        "**Grupo**: João Victor Alcoforado de Araújo, Lívia Noêmia Morais Rocha e Matheus Rocha dos Santos Rangel."
      ]
    },
    {
      "cell_type": "markdown",
      "metadata": {
        "id": "FqQS-ozGEpiS"
      },
      "source": [
        "## **Projeto #3 - Visualização de Dados**"
      ]
    },
    {
      "cell_type": "markdown",
      "metadata": {
        "id": "5UyALsjvCa2C"
      },
      "source": [
        "#### **Imports e configurações gerais**"
      ]
    },
    {
      "cell_type": "code",
      "metadata": {
        "id": "DVVcVZk7t4TH"
      },
      "source": [
        "import pandas as pd\n",
        "import numpy as np\n",
        "import seaborn as sns\n",
        "import matplotlib.pyplot as plt"
      ],
      "execution_count": 19,
      "outputs": []
    },
    {
      "cell_type": "code",
      "metadata": {
        "id": "2IRJz5t_t4TR"
      },
      "source": [
        "pd.set_option('max_columns', None)\n",
        "pd.set_option('max_rows', None)\n",
        "pd.set_option('max_colwidth', None)"
      ],
      "execution_count": 2,
      "outputs": []
    },
    {
      "cell_type": "code",
      "metadata": {
        "id": "Tk6CQG4GUBaH"
      },
      "source": [
        "sns.set_palette(\"Set2\")"
      ],
      "execution_count": 3,
      "outputs": []
    },
    {
      "cell_type": "code",
      "metadata": {
        "colab": {
          "base_uri": "https://localhost:8080/"
        },
        "id": "B2XmFz0nt9Hz",
        "outputId": "2b01035d-af01-4e98-c25a-8c4c0a9b46be"
      },
      "source": [
        "from google.colab import drive\n",
        "drive.mount('/content/drive')"
      ],
      "execution_count": 4,
      "outputs": [
        {
          "output_type": "stream",
          "text": [
            "Drive already mounted at /content/drive; to attempt to forcibly remount, call drive.mount(\"/content/drive\", force_remount=True).\n"
          ],
          "name": "stdout"
        }
      ]
    },
    {
      "cell_type": "markdown",
      "metadata": {
        "id": "Tx6wVeXtt4TS"
      },
      "source": [
        "## **Exploração Inicial - CNVCC**\n",
        "\n",
        "[Dicionário de dados do dataset](https://opendatasus.saude.gov.br/dataset/b772ee55-07cd-44d8-958f-b12edd004e0b/resource/38ead83d-b115-4219-852e-7244792bc311/download/dicionario-de-dados-vacinacao.pdf)"
      ]
    },
    {
      "cell_type": "code",
      "metadata": {
        "scrolled": false,
        "id": "XhHpv70Ot4TS"
      },
      "source": [
        "cnvcc = pd.read_csv('/content/drive/MyDrive/Colab Notebooks/ICD/Datasets/CNVCC - Nordeste1.csv')"
      ],
      "execution_count": 91,
      "outputs": []
    },
    {
      "cell_type": "code",
      "metadata": {
        "id": "NWtENBXum9qE"
      },
      "source": [
        "cnvcc['vacina_dataAplicacao'] = pd.to_datetime(cnvcc['vacina_dataAplicacao'].str[:10])\n",
        "cnvcc = cnvcc[cnvcc['vacina_dataAplicacao'] > pd.to_datetime('03/01/2021', dayfirst=True)]"
      ],
      "execution_count": 92,
      "outputs": []
    },
    {
      "cell_type": "code",
      "metadata": {
        "colab": {
          "base_uri": "https://localhost:8080/",
          "height": 564
        },
        "id": "RznhDvCm3r1A",
        "outputId": "1e527096-7436-402b-9281-cc5f2e070562"
      },
      "source": [
        "cnvcc.head()"
      ],
      "execution_count": 93,
      "outputs": [
        {
          "output_type": "execute_result",
          "data": {
            "text/html": [
              "<div>\n",
              "<style scoped>\n",
              "    .dataframe tbody tr th:only-of-type {\n",
              "        vertical-align: middle;\n",
              "    }\n",
              "\n",
              "    .dataframe tbody tr th {\n",
              "        vertical-align: top;\n",
              "    }\n",
              "\n",
              "    .dataframe thead th {\n",
              "        text-align: right;\n",
              "    }\n",
              "</style>\n",
              "<table border=\"1\" class=\"dataframe\">\n",
              "  <thead>\n",
              "    <tr style=\"text-align: right;\">\n",
              "      <th></th>\n",
              "      <th>document_id</th>\n",
              "      <th>paciente_id</th>\n",
              "      <th>paciente_idade</th>\n",
              "      <th>paciente_enumSexoBiologico</th>\n",
              "      <th>estabelecimento_uf</th>\n",
              "      <th>vacina_categoria_nome</th>\n",
              "      <th>vacina_fabricante_nome</th>\n",
              "      <th>vacina_dataAplicacao</th>\n",
              "      <th>vacina_descricao_dose</th>\n",
              "      <th>vacina_nome</th>\n",
              "    </tr>\n",
              "  </thead>\n",
              "  <tbody>\n",
              "    <tr>\n",
              "      <th>0</th>\n",
              "      <td>ddc87995-000b-47a1-b90e-6b0d0563f978-i0b0</td>\n",
              "      <td>6b16f0c5e10a74e22ad7f043d723f475cf6b1f349db2d159965d2b76eee68964</td>\n",
              "      <td>23.0</td>\n",
              "      <td>F</td>\n",
              "      <td>MA</td>\n",
              "      <td>Trabalhadores de Saúde</td>\n",
              "      <td>FUNDACAO OSWALDO CRUZ</td>\n",
              "      <td>2021-04-30</td>\n",
              "      <td>1ª Dose</td>\n",
              "      <td>Vacina Covid-19 - Covishield</td>\n",
              "    </tr>\n",
              "    <tr>\n",
              "      <th>1</th>\n",
              "      <td>7b8f308b-b027-4e31-a6c9-1352df60e0c0-i0b0</td>\n",
              "      <td>d7390505c9f33725adf5af0de73e5924bdd4db1154b3ad9960902207e71dacee</td>\n",
              "      <td>73.0</td>\n",
              "      <td>F</td>\n",
              "      <td>MA</td>\n",
              "      <td>Faixa Etária</td>\n",
              "      <td>FUNDACAO BUTANTAN</td>\n",
              "      <td>2021-03-11</td>\n",
              "      <td>2ª Dose</td>\n",
              "      <td>Covid-19-Coronavac-Sinovac/Butantan</td>\n",
              "    </tr>\n",
              "    <tr>\n",
              "      <th>2</th>\n",
              "      <td>a9410084-eadf-449e-9d8c-fb6cb7f8a719-i0b0</td>\n",
              "      <td>3aec5e352cba8ad396136966088797ec45e9b29aebd136bb744164da0bffa571</td>\n",
              "      <td>61.0</td>\n",
              "      <td>F</td>\n",
              "      <td>MA</td>\n",
              "      <td>Faixa Etária</td>\n",
              "      <td>FUNDACAO OSWALDO CRUZ</td>\n",
              "      <td>2021-04-29</td>\n",
              "      <td>1ª Dose</td>\n",
              "      <td>Vacina Covid-19 - Covishield</td>\n",
              "    </tr>\n",
              "    <tr>\n",
              "      <th>3</th>\n",
              "      <td>45373304-db08-47c9-9174-9cc2a53110b4-i0b0</td>\n",
              "      <td>fafb9a784ebdf54d418b37c1b0e0260cf371c16ead72c6cbafff9fd8c196a00e</td>\n",
              "      <td>23.0</td>\n",
              "      <td>F</td>\n",
              "      <td>MA</td>\n",
              "      <td>Povos Indígenas</td>\n",
              "      <td>FUNDACAO BUTANTAN</td>\n",
              "      <td>2021-03-12</td>\n",
              "      <td>2ª Dose</td>\n",
              "      <td>Covid-19-Coronavac-Sinovac/Butantan</td>\n",
              "    </tr>\n",
              "    <tr>\n",
              "      <th>4</th>\n",
              "      <td>e8b44e85-890d-4e5f-a286-6d1f1b26fba7-i0b0</td>\n",
              "      <td>1b518f76d0415ffdb07e65f875db7f6a8a6ec741748375818a635a4182463620</td>\n",
              "      <td>70.0</td>\n",
              "      <td>F</td>\n",
              "      <td>MA</td>\n",
              "      <td>Faixa Etária</td>\n",
              "      <td>FUNDACAO BUTANTAN</td>\n",
              "      <td>2021-04-29</td>\n",
              "      <td>2ª Dose</td>\n",
              "      <td>Covid-19-Coronavac-Sinovac/Butantan</td>\n",
              "    </tr>\n",
              "  </tbody>\n",
              "</table>\n",
              "</div>"
            ],
            "text/plain": [
              "                                 document_id  \\\n",
              "0  ddc87995-000b-47a1-b90e-6b0d0563f978-i0b0   \n",
              "1  7b8f308b-b027-4e31-a6c9-1352df60e0c0-i0b0   \n",
              "2  a9410084-eadf-449e-9d8c-fb6cb7f8a719-i0b0   \n",
              "3  45373304-db08-47c9-9174-9cc2a53110b4-i0b0   \n",
              "4  e8b44e85-890d-4e5f-a286-6d1f1b26fba7-i0b0   \n",
              "\n",
              "                                                        paciente_id  \\\n",
              "0  6b16f0c5e10a74e22ad7f043d723f475cf6b1f349db2d159965d2b76eee68964   \n",
              "1  d7390505c9f33725adf5af0de73e5924bdd4db1154b3ad9960902207e71dacee   \n",
              "2  3aec5e352cba8ad396136966088797ec45e9b29aebd136bb744164da0bffa571   \n",
              "3  fafb9a784ebdf54d418b37c1b0e0260cf371c16ead72c6cbafff9fd8c196a00e   \n",
              "4  1b518f76d0415ffdb07e65f875db7f6a8a6ec741748375818a635a4182463620   \n",
              "\n",
              "   paciente_idade paciente_enumSexoBiologico estabelecimento_uf  \\\n",
              "0            23.0                          F                 MA   \n",
              "1            73.0                          F                 MA   \n",
              "2            61.0                          F                 MA   \n",
              "3            23.0                          F                 MA   \n",
              "4            70.0                          F                 MA   \n",
              "\n",
              "    vacina_categoria_nome vacina_fabricante_nome vacina_dataAplicacao  \\\n",
              "0  Trabalhadores de Saúde  FUNDACAO OSWALDO CRUZ           2021-04-30   \n",
              "1            Faixa Etária      FUNDACAO BUTANTAN           2021-03-11   \n",
              "2            Faixa Etária  FUNDACAO OSWALDO CRUZ           2021-04-29   \n",
              "3         Povos Indígenas      FUNDACAO BUTANTAN           2021-03-12   \n",
              "4            Faixa Etária      FUNDACAO BUTANTAN           2021-04-29   \n",
              "\n",
              "  vacina_descricao_dose                          vacina_nome  \n",
              "0               1ª Dose         Vacina Covid-19 - Covishield  \n",
              "1               2ª Dose  Covid-19-Coronavac-Sinovac/Butantan  \n",
              "2               1ª Dose         Vacina Covid-19 - Covishield  \n",
              "3               2ª Dose  Covid-19-Coronavac-Sinovac/Butantan  \n",
              "4               2ª Dose  Covid-19-Coronavac-Sinovac/Butantan  "
            ]
          },
          "metadata": {
            "tags": []
          },
          "execution_count": 93
        }
      ]
    },
    {
      "cell_type": "code",
      "metadata": {
        "colab": {
          "base_uri": "https://localhost:8080/",
          "height": 560
        },
        "id": "4GNpAe4h_SdT",
        "outputId": "0e397b93-210f-46bb-fe17-e569e2ad60c9"
      },
      "source": [
        "vacinados = cnvcc.groupby('vacina_dataAplicacao').size().reset_index(name='qtd')\n",
        "vacinados['semana'] = vacinados['vacina_dataAplicacao'].dt.strftime(\"%U\")\n",
        "\n",
        "plt.figure(figsize=(20,9))\n",
        "sns.lineplot(data = vacinados, x='semana',y='qtd', marker='o', ci= None)"
      ],
      "execution_count": 96,
      "outputs": [
        {
          "output_type": "execute_result",
          "data": {
            "text/plain": [
              "<matplotlib.axes._subplots.AxesSubplot at 0x7f1383929a10>"
            ]
          },
          "metadata": {
            "tags": []
          },
          "execution_count": 96
        },
        {
          "output_type": "display_data",
          "data": {
            "image/png": "[encoded data removed]",
            "text/plain": [
              "<Figure size 1440x648 with 1 Axes>"
            ]
          },
          "metadata": {
            "tags": [],
            "needs_background": "light"
          }
        }
      ]
    },
    {
      "cell_type": "markdown",
      "metadata": {
        "id": "iDFin_t8t4TW"
      },
      "source": [
        "## **Visualização de Dados - SRAG**\n",
        "\n",
        "[Dicionário de dados do dataset](https://opendatasus.saude.gov.br/dataset/9f76e80f-a2f1-4662-9e37-71084eae23e3/resource/b3321e55-24e9-49ab-8651-29cf5c8f3179/download/dicionario-de-dados-srag-hospitalizado-27.07.2020-final.pdf)"
      ]
    },
    {
      "cell_type": "code",
      "metadata": {
        "id": "zPJ6azuJx3Jp"
      },
      "source": [
        "srag = pd.read_csv('/content/drive/MyDrive/Colab Notebooks/ICD/Datasets/SRAG - 2021.csv')\n",
        "\n",
        "#Seleção de estados do nordeste\n",
        "nordeste = ['AL', 'BA', 'CE', 'MA', 'PB', 'PE', 'PI', 'RN', 'SE']\n",
        "srag = srag[srag['SG_UF'].isin(nordeste)]"
      ],
      "execution_count": 12,
      "outputs": []
    },
    {
      "cell_type": "code",
      "metadata": {
        "id": "X6pi-5kgUVJz"
      },
      "source": [
        "#Conversao em datetime\n",
        "srag['DT_INTERNA'] = pd.to_datetime(srag['DT_INTERNA'],errors='coerce', dayfirst=True)\n",
        "srag['DT_EVOLUCA'] = pd.to_datetime(srag['DT_EVOLUCA'],errors='coerce', dayfirst=True)\n",
        "srag['DT_ENTUTI']  = pd.to_datetime(srag['DT_ENTUTI'],errors='coerce', dayfirst=True)\n",
        "srag['DT_SAIDUTI'] = pd.to_datetime(srag['DT_SAIDUTI'],errors='coerce', dayfirst=True)"
      ],
      "execution_count": 14,
      "outputs": []
    },
    {
      "cell_type": "code",
      "metadata": {
        "id": "Lj0Lat00UXEC"
      },
      "source": [
        "#Criacao de novas colunas\n",
        "srag[\"TEMPO_INTER\"] = ((srag[\"DT_EVOLUCA\"] - srag[\"DT_INTERNA\"]).dt.days).astype(\"Int64\")\n",
        "srag[\"TEMPO_UTI\"] = ((srag[\"DT_SAIDUTI\"] - srag[\"DT_ENTUTI\"]).dt.days).astype(\"Int64\")"
      ],
      "execution_count": 16,
      "outputs": []
    },
    {
      "cell_type": "code",
      "metadata": {
        "colab": {
          "base_uri": "https://localhost:8080/",
          "height": 224
        },
        "id": "gxmy-knsTSK8",
        "outputId": "91362b02-fa1f-4a77-f609-e3d60647edc9"
      },
      "source": [
        "srag.head()"
      ],
      "execution_count": 17,
      "outputs": [
        {
          "output_type": "execute_result",
          "data": {
            "text/html": [
              "<div>\n",
              "<style scoped>\n",
              "    .dataframe tbody tr th:only-of-type {\n",
              "        vertical-align: middle;\n",
              "    }\n",
              "\n",
              "    .dataframe tbody tr th {\n",
              "        vertical-align: top;\n",
              "    }\n",
              "\n",
              "    .dataframe thead th {\n",
              "        text-align: right;\n",
              "    }\n",
              "</style>\n",
              "<table border=\"1\" class=\"dataframe\">\n",
              "  <thead>\n",
              "    <tr style=\"text-align: right;\">\n",
              "      <th></th>\n",
              "      <th>DT_NOTIFIC</th>\n",
              "      <th>SEM_NOT</th>\n",
              "      <th>DT_SIN_PRI</th>\n",
              "      <th>CS_SEXO</th>\n",
              "      <th>NU_IDADE_N</th>\n",
              "      <th>TP_IDADE</th>\n",
              "      <th>CS_GESTANT</th>\n",
              "      <th>CS_ESCOL_N</th>\n",
              "      <th>SG_UF</th>\n",
              "      <th>SURTO_SG</th>\n",
              "      <th>FEBRE</th>\n",
              "      <th>TOSSE</th>\n",
              "      <th>GARGANTA</th>\n",
              "      <th>DISPNEIA</th>\n",
              "      <th>DESC_RESP</th>\n",
              "      <th>SATURACAO</th>\n",
              "      <th>DIARREIA</th>\n",
              "      <th>VOMITO</th>\n",
              "      <th>PUERPERA</th>\n",
              "      <th>FATOR_RISC</th>\n",
              "      <th>CARDIOPATI</th>\n",
              "      <th>HEMATOLOGI</th>\n",
              "      <th>SIND_DOWN</th>\n",
              "      <th>HEPATICA</th>\n",
              "      <th>ASMA</th>\n",
              "      <th>DIABETES</th>\n",
              "      <th>NEUROLOGIC</th>\n",
              "      <th>PNEUMOPATI</th>\n",
              "      <th>IMUNODEPRE</th>\n",
              "      <th>RENAL</th>\n",
              "      <th>OBESIDADE</th>\n",
              "      <th>HOSPITAL</th>\n",
              "      <th>DT_INTERNA</th>\n",
              "      <th>UTI</th>\n",
              "      <th>DT_ENTUTI</th>\n",
              "      <th>DT_SAIDUTI</th>\n",
              "      <th>SUPORT_VEN</th>\n",
              "      <th>CLASSI_FIN</th>\n",
              "      <th>EVOLUCAO</th>\n",
              "      <th>DT_EVOLUCA</th>\n",
              "      <th>DOR_ABD</th>\n",
              "      <th>FADIGA</th>\n",
              "      <th>PERD_OLFT</th>\n",
              "      <th>PERD_PALA</th>\n",
              "      <th>TEMPO_INTER</th>\n",
              "      <th>TEMPO_UTI</th>\n",
              "    </tr>\n",
              "  </thead>\n",
              "  <tbody>\n",
              "    <tr>\n",
              "      <th>1</th>\n",
              "      <td>06/01/2021</td>\n",
              "      <td>1</td>\n",
              "      <td>03/01/2021</td>\n",
              "      <td>F</td>\n",
              "      <td>80</td>\n",
              "      <td>3</td>\n",
              "      <td>5</td>\n",
              "      <td>NaN</td>\n",
              "      <td>PE</td>\n",
              "      <td>NaN</td>\n",
              "      <td>1.0</td>\n",
              "      <td>1.0</td>\n",
              "      <td>NaN</td>\n",
              "      <td>1.0</td>\n",
              "      <td>NaN</td>\n",
              "      <td>1.0</td>\n",
              "      <td>1.0</td>\n",
              "      <td>NaN</td>\n",
              "      <td>NaN</td>\n",
              "      <td>S</td>\n",
              "      <td>1.0</td>\n",
              "      <td>NaN</td>\n",
              "      <td>NaN</td>\n",
              "      <td>NaN</td>\n",
              "      <td>NaN</td>\n",
              "      <td>NaN</td>\n",
              "      <td>1.0</td>\n",
              "      <td>NaN</td>\n",
              "      <td>NaN</td>\n",
              "      <td>NaN</td>\n",
              "      <td>NaN</td>\n",
              "      <td>1.0</td>\n",
              "      <td>2021-01-05</td>\n",
              "      <td>2.0</td>\n",
              "      <td>NaT</td>\n",
              "      <td>NaT</td>\n",
              "      <td>2.0</td>\n",
              "      <td>5.0</td>\n",
              "      <td>2.0</td>\n",
              "      <td>2021-01-13</td>\n",
              "      <td>NaN</td>\n",
              "      <td>NaN</td>\n",
              "      <td>NaN</td>\n",
              "      <td>NaN</td>\n",
              "      <td>8</td>\n",
              "      <td>&lt;NA&gt;</td>\n",
              "    </tr>\n",
              "    <tr>\n",
              "      <th>4</th>\n",
              "      <td>08/01/2021</td>\n",
              "      <td>1</td>\n",
              "      <td>04/01/2021</td>\n",
              "      <td>F</td>\n",
              "      <td>1</td>\n",
              "      <td>3</td>\n",
              "      <td>6</td>\n",
              "      <td>5.0</td>\n",
              "      <td>PB</td>\n",
              "      <td>2.0</td>\n",
              "      <td>1.0</td>\n",
              "      <td>1.0</td>\n",
              "      <td>2.0</td>\n",
              "      <td>1.0</td>\n",
              "      <td>1.0</td>\n",
              "      <td>2.0</td>\n",
              "      <td>2.0</td>\n",
              "      <td>2.0</td>\n",
              "      <td>NaN</td>\n",
              "      <td>N</td>\n",
              "      <td>NaN</td>\n",
              "      <td>NaN</td>\n",
              "      <td>NaN</td>\n",
              "      <td>NaN</td>\n",
              "      <td>NaN</td>\n",
              "      <td>NaN</td>\n",
              "      <td>NaN</td>\n",
              "      <td>NaN</td>\n",
              "      <td>NaN</td>\n",
              "      <td>NaN</td>\n",
              "      <td>NaN</td>\n",
              "      <td>1.0</td>\n",
              "      <td>2021-01-08</td>\n",
              "      <td>2.0</td>\n",
              "      <td>NaT</td>\n",
              "      <td>NaT</td>\n",
              "      <td>3.0</td>\n",
              "      <td>5.0</td>\n",
              "      <td>1.0</td>\n",
              "      <td>2021-01-10</td>\n",
              "      <td>2.0</td>\n",
              "      <td>2.0</td>\n",
              "      <td>2.0</td>\n",
              "      <td>2.0</td>\n",
              "      <td>2</td>\n",
              "      <td>&lt;NA&gt;</td>\n",
              "    </tr>\n",
              "    <tr>\n",
              "      <th>6</th>\n",
              "      <td>11/01/2021</td>\n",
              "      <td>2</td>\n",
              "      <td>05/01/2021</td>\n",
              "      <td>F</td>\n",
              "      <td>68</td>\n",
              "      <td>3</td>\n",
              "      <td>5</td>\n",
              "      <td>9.0</td>\n",
              "      <td>BA</td>\n",
              "      <td>2.0</td>\n",
              "      <td>2.0</td>\n",
              "      <td>2.0</td>\n",
              "      <td>2.0</td>\n",
              "      <td>2.0</td>\n",
              "      <td>2.0</td>\n",
              "      <td>2.0</td>\n",
              "      <td>2.0</td>\n",
              "      <td>1.0</td>\n",
              "      <td>2.0</td>\n",
              "      <td>S</td>\n",
              "      <td>1.0</td>\n",
              "      <td>2.0</td>\n",
              "      <td>2.0</td>\n",
              "      <td>2.0</td>\n",
              "      <td>2.0</td>\n",
              "      <td>1.0</td>\n",
              "      <td>2.0</td>\n",
              "      <td>2.0</td>\n",
              "      <td>2.0</td>\n",
              "      <td>2.0</td>\n",
              "      <td>2.0</td>\n",
              "      <td>1.0</td>\n",
              "      <td>2021-01-09</td>\n",
              "      <td>1.0</td>\n",
              "      <td>2021-01-09</td>\n",
              "      <td>2021-01-19</td>\n",
              "      <td>3.0</td>\n",
              "      <td>4.0</td>\n",
              "      <td>1.0</td>\n",
              "      <td>2021-01-25</td>\n",
              "      <td>2.0</td>\n",
              "      <td>2.0</td>\n",
              "      <td>2.0</td>\n",
              "      <td>2.0</td>\n",
              "      <td>16</td>\n",
              "      <td>10</td>\n",
              "    </tr>\n",
              "    <tr>\n",
              "      <th>12</th>\n",
              "      <td>14/04/2021</td>\n",
              "      <td>15</td>\n",
              "      <td>12/04/2021</td>\n",
              "      <td>M</td>\n",
              "      <td>87</td>\n",
              "      <td>3</td>\n",
              "      <td>6</td>\n",
              "      <td>9.0</td>\n",
              "      <td>BA</td>\n",
              "      <td>NaN</td>\n",
              "      <td>1.0</td>\n",
              "      <td>2.0</td>\n",
              "      <td>2.0</td>\n",
              "      <td>2.0</td>\n",
              "      <td>2.0</td>\n",
              "      <td>2.0</td>\n",
              "      <td>2.0</td>\n",
              "      <td>2.0</td>\n",
              "      <td>2.0</td>\n",
              "      <td>S</td>\n",
              "      <td>2.0</td>\n",
              "      <td>2.0</td>\n",
              "      <td>2.0</td>\n",
              "      <td>2.0</td>\n",
              "      <td>2.0</td>\n",
              "      <td>2.0</td>\n",
              "      <td>2.0</td>\n",
              "      <td>2.0</td>\n",
              "      <td>1.0</td>\n",
              "      <td>2.0</td>\n",
              "      <td>2.0</td>\n",
              "      <td>1.0</td>\n",
              "      <td>2021-04-05</td>\n",
              "      <td>2.0</td>\n",
              "      <td>NaT</td>\n",
              "      <td>NaT</td>\n",
              "      <td>3.0</td>\n",
              "      <td>4.0</td>\n",
              "      <td>NaN</td>\n",
              "      <td>NaT</td>\n",
              "      <td>2.0</td>\n",
              "      <td>2.0</td>\n",
              "      <td>2.0</td>\n",
              "      <td>2.0</td>\n",
              "      <td>&lt;NA&gt;</td>\n",
              "      <td>&lt;NA&gt;</td>\n",
              "    </tr>\n",
              "    <tr>\n",
              "      <th>25</th>\n",
              "      <td>03/01/2021</td>\n",
              "      <td>1</td>\n",
              "      <td>03/01/2021</td>\n",
              "      <td>F</td>\n",
              "      <td>54</td>\n",
              "      <td>3</td>\n",
              "      <td>5</td>\n",
              "      <td>NaN</td>\n",
              "      <td>AL</td>\n",
              "      <td>9.0</td>\n",
              "      <td>NaN</td>\n",
              "      <td>1.0</td>\n",
              "      <td>NaN</td>\n",
              "      <td>NaN</td>\n",
              "      <td>NaN</td>\n",
              "      <td>1.0</td>\n",
              "      <td>NaN</td>\n",
              "      <td>NaN</td>\n",
              "      <td>NaN</td>\n",
              "      <td>S</td>\n",
              "      <td>1.0</td>\n",
              "      <td>NaN</td>\n",
              "      <td>NaN</td>\n",
              "      <td>NaN</td>\n",
              "      <td>NaN</td>\n",
              "      <td>1.0</td>\n",
              "      <td>NaN</td>\n",
              "      <td>NaN</td>\n",
              "      <td>NaN</td>\n",
              "      <td>NaN</td>\n",
              "      <td>NaN</td>\n",
              "      <td>1.0</td>\n",
              "      <td>2021-01-03</td>\n",
              "      <td>NaN</td>\n",
              "      <td>NaT</td>\n",
              "      <td>NaT</td>\n",
              "      <td>NaN</td>\n",
              "      <td>5.0</td>\n",
              "      <td>1.0</td>\n",
              "      <td>2021-01-14</td>\n",
              "      <td>NaN</td>\n",
              "      <td>NaN</td>\n",
              "      <td>NaN</td>\n",
              "      <td>NaN</td>\n",
              "      <td>11</td>\n",
              "      <td>&lt;NA&gt;</td>\n",
              "    </tr>\n",
              "  </tbody>\n",
              "</table>\n",
              "</div>"
            ],
            "text/plain": [
              "    DT_NOTIFIC  SEM_NOT  DT_SIN_PRI CS_SEXO  NU_IDADE_N  TP_IDADE  CS_GESTANT  \\\n",
              "1   06/01/2021        1  03/01/2021       F          80         3           5   \n",
              "4   08/01/2021        1  04/01/2021       F           1         3           6   \n",
              "6   11/01/2021        2  05/01/2021       F          68         3           5   \n",
              "12  14/04/2021       15  12/04/2021       M          87         3           6   \n",
              "25  03/01/2021        1  03/01/2021       F          54         3           5   \n",
              "\n",
              "    CS_ESCOL_N SG_UF  SURTO_SG  FEBRE  TOSSE  GARGANTA  DISPNEIA  DESC_RESP  \\\n",
              "1          NaN    PE       NaN    1.0    1.0       NaN       1.0        NaN   \n",
              "4          5.0    PB       2.0    1.0    1.0       2.0       1.0        1.0   \n",
              "6          9.0    BA       2.0    2.0    2.0       2.0       2.0        2.0   \n",
              "12         9.0    BA       NaN    1.0    2.0       2.0       2.0        2.0   \n",
              "25         NaN    AL       9.0    NaN    1.0       NaN       NaN        NaN   \n",
              "\n",
              "    SATURACAO  DIARREIA  VOMITO  PUERPERA FATOR_RISC  CARDIOPATI  HEMATOLOGI  \\\n",
              "1         1.0       1.0     NaN       NaN          S         1.0         NaN   \n",
              "4         2.0       2.0     2.0       NaN          N         NaN         NaN   \n",
              "6         2.0       2.0     1.0       2.0          S         1.0         2.0   \n",
              "12        2.0       2.0     2.0       2.0          S         2.0         2.0   \n",
              "25        1.0       NaN     NaN       NaN          S         1.0         NaN   \n",
              "\n",
              "    SIND_DOWN  HEPATICA  ASMA  DIABETES  NEUROLOGIC  PNEUMOPATI  IMUNODEPRE  \\\n",
              "1         NaN       NaN   NaN       NaN         1.0         NaN         NaN   \n",
              "4         NaN       NaN   NaN       NaN         NaN         NaN         NaN   \n",
              "6         2.0       2.0   2.0       1.0         2.0         2.0         2.0   \n",
              "12        2.0       2.0   2.0       2.0         2.0         2.0         1.0   \n",
              "25        NaN       NaN   NaN       1.0         NaN         NaN         NaN   \n",
              "\n",
              "    RENAL  OBESIDADE  HOSPITAL DT_INTERNA  UTI  DT_ENTUTI DT_SAIDUTI  \\\n",
              "1     NaN        NaN       1.0 2021-01-05  2.0        NaT        NaT   \n",
              "4     NaN        NaN       1.0 2021-01-08  2.0        NaT        NaT   \n",
              "6     2.0        2.0       1.0 2021-01-09  1.0 2021-01-09 2021-01-19   \n",
              "12    2.0        2.0       1.0 2021-04-05  2.0        NaT        NaT   \n",
              "25    NaN        NaN       1.0 2021-01-03  NaN        NaT        NaT   \n",
              "\n",
              "    SUPORT_VEN  CLASSI_FIN  EVOLUCAO DT_EVOLUCA  DOR_ABD  FADIGA  PERD_OLFT  \\\n",
              "1          2.0         5.0       2.0 2021-01-13      NaN     NaN        NaN   \n",
              "4          3.0         5.0       1.0 2021-01-10      2.0     2.0        2.0   \n",
              "6          3.0         4.0       1.0 2021-01-25      2.0     2.0        2.0   \n",
              "12         3.0         4.0       NaN        NaT      2.0     2.0        2.0   \n",
              "25         NaN         5.0       1.0 2021-01-14      NaN     NaN        NaN   \n",
              "\n",
              "    PERD_PALA  TEMPO_INTER  TEMPO_UTI  \n",
              "1         NaN            8       <NA>  \n",
              "4         2.0            2       <NA>  \n",
              "6         2.0           16         10  \n",
              "12        2.0         <NA>       <NA>  \n",
              "25        NaN           11       <NA>  "
            ]
          },
          "metadata": {
            "tags": []
          },
          "execution_count": 17
        }
      ]
    },
    {
      "cell_type": "markdown",
      "metadata": {
        "id": "jKpHa1DZV5U1"
      },
      "source": [
        "### Evolução do número de óbitos por Covid-19 por semana de notificação"
      ]
    },
    {
      "cell_type": "code",
      "metadata": {
        "colab": {
          "base_uri": "https://localhost:8080/",
          "height": 515
        },
        "id": "h7ZpKcH_UYUR",
        "outputId": "0a2f84aa-da59-49ca-877d-3192715f7162"
      },
      "source": [
        "not_por_semana = pd.DataFrame(srag.groupby(\"SEM_NOT\").size().reset_index(name=\"qtd\")) \n",
        "\n",
        "obitos_covid = srag.loc[(srag['CLASSI_FIN'] == 5) & (srag[\"EVOLUCAO\"] == 2)][['EVOLUCAO', 'SEM_NOT']]\n",
        "obitos_covid_por_semana = obitos_covid.groupby([\"EVOLUCAO\", \"SEM_NOT\"]).size().reset_index(name=\"qtd\")\n",
        "\n",
        "fig, ax = plt.subplots(figsize=(15, 8))\n",
        "sns.lineplot(data=not_por_semana, x=\"SEM_NOT\", y =\"qtd\", marker='o')\n",
        "sns.lineplot(data=obitos_covid_por_semana, x=\"SEM_NOT\", y=\"qtd\", marker='o')"
      ],
      "execution_count": 58,
      "outputs": [
        {
          "output_type": "execute_result",
          "data": {
            "text/plain": [
              "<matplotlib.axes._subplots.AxesSubplot at 0x7f1426cca710>"
            ]
          },
          "metadata": {
            "tags": []
          },
          "execution_count": 58
        },
        {
          "output_type": "display_data",
          "data": {
            "image/png": "[encoded data removed]",
            "text/plain": [
              "<Figure size 1080x576 with 1 Axes>"
            ]
          },
          "metadata": {
            "tags": [],
            "needs_background": "light"
          }
        }
      ]
    },
    {
      "cell_type": "markdown",
      "metadata": {
        "id": "Hres3FRDgGcS"
      },
      "source": [
        "### Proporção de notificação de SRAG por estado do nordeste"
      ]
    },
    {
      "cell_type": "code",
      "metadata": {
        "id": "j_vatNTXIUTT"
      },
      "source": [
        "dados = {\n",
        "    'SG_UF': ['AL', 'BA', 'CE', 'MA', 'PB', 'PE', 'PI', 'RN', 'SE'],\n",
        "    'populacao': [3322820, 14812617, 9075649, 7035055, 3996496,\n",
        "                  9496294, 3264531, 3479010, 2278308]\n",
        " }\n",
        "pop_estados = pd.DataFrame(dados)"
      ],
      "execution_count": 66,
      "outputs": []
    },
    {
      "cell_type": "code",
      "metadata": {
        "colab": {
          "base_uri": "https://localhost:8080/",
          "height": 515
        },
        "id": "RU_JOAyHUhh1",
        "outputId": "25687ccc-f728-4231-d6d5-d731ce61dbd2"
      },
      "source": [
        "not_por_estado = srag.groupby('SG_UF').size().reset_index(name='qtd')\n",
        "not_por_estado = pd.merge(proporcao_not_estado, pop_estados, on='SG_UF', how='inner')\n",
        "not_por_estado['proporcao_not'] =  (not_por_estado['qtd']/not_por_estado['populacao']) * 100\n",
        "not_por_estado = not_por_estado.sort_values('proporcao_not', ascending=False)\n",
        "\n",
        "plt.figure(figsize=(15,8))\n",
        "sns.barplot(data=not_por_estado, x='SG_UF', y='proporcao_not')"
      ],
      "execution_count": 79,
      "outputs": [
        {
          "output_type": "execute_result",
          "data": {
            "text/plain": [
              "<matplotlib.axes._subplots.AxesSubplot at 0x7f1428a2ced0>"
            ]
          },
          "metadata": {
            "tags": []
          },
          "execution_count": 79
        },
        {
          "output_type": "display_data",
          "data": {
            "image/png": "[encoded data removed]",
            "text/plain": [
              "<Figure size 1080x576 with 1 Axes>"
            ]
          },
          "metadata": {
            "tags": [],
            "needs_background": "light"
          }
        }
      ]
    },
    {
      "cell_type": "markdown",
      "metadata": {
        "id": "Y9QrjpVVgUei"
      },
      "source": [
        "#### Frequência relativa de sintomas de pacientes com Covid - 19"
      ]
    },
    {
      "cell_type": "code",
      "metadata": {
        "colab": {
          "base_uri": "https://localhost:8080/",
          "height": 515
        },
        "id": "JVf_H2QXUmGa",
        "outputId": "db1ab879-d00f-4f50-ccde-cf2dc9653049"
      },
      "source": [
        "coluna_sintomas = ['FEBRE', 'TOSSE', 'GARGANTA', 'DISPNEIA', 'DESC_RESP', 'SATURACAO', 'DIARREIA', 'VOMITO', 'DOR_ABD', 'FADIGA', 'PERD_OLFT', 'PERD_PALA']\n",
        "pacientes_covid = srag[srag['CLASSI_FIN'] == 5][coluna_sintomas]\n",
        "total_pacientes = pacientes_covid.shape[0]\n",
        "\n",
        "proporcao_sintomas = []\n",
        "for sintoma in coluna_sintomas:\n",
        "    freq_sintoma = pacientes_covid[pacientes_covid[sintoma] == 1].shape[0]\n",
        "    proporcao_sintomas.append((freq_sintoma/total_pacientes) * 100)\n",
        "\n",
        "freq_sintomas = pd.DataFrame({'sintomas': coluna_sintomas, 'proporcao_sintomas': proporcao_sintomas})\n",
        "freq_sintomas = freq_sintomas.sort_values('proporcao_sintomas', ascending=False)\n",
        "\n",
        "plt.figure(figsize=(15, 8))\n",
        "sns.barplot(data=freq_sintomas, x=\"sintomas\", y=\"proporcao_sintomas\")"
      ],
      "execution_count": 90,
      "outputs": [
        {
          "output_type": "execute_result",
          "data": {
            "text/plain": [
              "<matplotlib.axes._subplots.AxesSubplot at 0x7f14271cd050>"
            ]
          },
          "metadata": {
            "tags": []
          },
          "execution_count": 90
        },
        {
          "output_type": "display_data",
          "data": {
            "image/png": "[encoded data removed]",
            "text/plain": [
              "<Figure size 1080x576 with 1 Axes>"
            ]
          },
          "metadata": {
            "tags": [],
            "needs_background": "light"
          }
        }
      ]
    },
    {
      "cell_type": "code",
      "metadata": {
        "colab": {
          "base_uri": "https://localhost:8080/"
        },
        "id": "CilaJGgIjL41",
        "outputId": "dac380aa-b517-4f43-aec5-2813c42bbae9"
      },
      "source": [
        "total_pacientes"
      ],
      "execution_count": 86,
      "outputs": [
        {
          "output_type": "execute_result",
          "data": {
            "text/plain": [
              "76063"
            ]
          },
          "metadata": {
            "tags": []
          },
          "execution_count": 86
        }
      ]
    },
    {
      "cell_type": "markdown",
      "metadata": {
        "id": "-8cqPlE_gna3"
      },
      "source": [
        "#### Histograma de idade dos pacientes notificados "
      ]
    },
    {
      "cell_type": "code",
      "metadata": {
        "colab": {
          "base_uri": "https://localhost:8080/",
          "height": 386
        },
        "id": "4f7ArS8BUp-f",
        "outputId": "9cf0b0a9-c577-42a7-b7e3-4c5cce9a72d2"
      },
      "source": [
        "sns.displot(data=srag, x=\"NU_IDADE_N\", binwidth=10)"
      ],
      "execution_count": 80,
      "outputs": [
        {
          "output_type": "execute_result",
          "data": {
            "text/plain": [
              "<seaborn.axisgrid.FacetGrid at 0x7f1426f6e690>"
            ]
          },
          "metadata": {
            "tags": []
          },
          "execution_count": 80
        },
        {
          "output_type": "display_data",
          "data": {
            "image/png": "[encoded data removed]",
            "text/plain": [
              "<Figure size 360x360 with 1 Axes>"
            ]
          },
          "metadata": {
            "tags": [],
            "needs_background": "light"
          }
        }
      ]
    }
  ]
}